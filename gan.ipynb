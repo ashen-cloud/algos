{
 "cells": [
  {
   "cell_type": "code",
   "execution_count": 44,
   "metadata": {},
   "outputs": [
    {
     "name": "stdout",
     "output_type": "stream",
     "text": [
      "%pylab is deprecated, use %matplotlib inline and import the required libraries.\n",
      "Populating the interactive namespace from numpy and matplotlib\n"
     ]
    }
   ],
   "source": [
    "%pylab inline\n",
    "\n",
    "import matplotlib.pyplot as plt\n",
    "\n",
    "import torch\n",
    "import torch.nn as nn\n",
    "import torch.optim as optim\n",
    "import torchvision.transforms as transforms\n",
    "\n",
    "from torchvision import datasets\n",
    "from torchvision.transforms import ToTensor, Grayscale\n",
    "\n",
    "from tqdm import trange\n"
   ]
  },
  {
   "cell_type": "code",
   "execution_count": 11,
   "metadata": {},
   "outputs": [],
   "source": [
    "import warnings\n",
    "warnings.filterwarnings('ignore')\n"
   ]
  },
  {
   "cell_type": "code",
   "execution_count": 12,
   "metadata": {},
   "outputs": [],
   "source": [
    "BATCH=4"
   ]
  },
  {
   "cell_type": "code",
   "execution_count": null,
   "metadata": {},
   "outputs": [],
   "source": []
  },
  {
   "cell_type": "code",
   "execution_count": null,
   "metadata": {},
   "outputs": [],
   "source": []
  },
  {
   "cell_type": "code",
   "execution_count": 13,
   "metadata": {},
   "outputs": [],
   "source": [
    "train_data = datasets.MNIST(\n",
    "\troot='data',\n",
    "\ttrain=True,\n",
    "\ttransform=transforms.Compose([\n",
    "\t\tToTensor(),\n",
    "\t\t# Grayscale(1),\n",
    "\t\t# transforms.Normalize((0.1307,), (0.3081,)),\n",
    "\t]),\n",
    "\tdownload=True,\n",
    ");\n",
    "\n",
    "trainloader = torch.utils.data.DataLoader(\n",
    "\ttrain_data,\n",
    "\tbatch_size=BATCH,\n",
    "\tnum_workers=12,\n",
    "\tshuffle=True\n",
    ")"
   ]
  },
  {
   "cell_type": "code",
   "execution_count": 14,
   "metadata": {},
   "outputs": [
    {
     "name": "stdout",
     "output_type": "stream",
     "text": [
      "torch.Size([4, 1, 28, 28])\n"
     ]
    }
   ],
   "source": [
    "for data in trainloader:\n",
    "\tprint(data[0].shape)\n",
    "\tbreak"
   ]
  },
  {
   "cell_type": "code",
   "execution_count": 41,
   "metadata": {},
   "outputs": [],
   "source": [
    "class G(nn.Module):\n",
    "\tdef __init__(self):\n",
    "\t\tsuper(G, self).__init__()\n",
    "\n",
    "\t\tself.deconvs = nn.Sequential(\n",
    "\t\t\tnn.ConvTranspose2d(1, 24, 3),\n",
    "\t\t\tnn.ReLU(inplace=True),\n",
    "\n",
    "\t\t\tnn.ConvTranspose2d(24, 32, 3),\n",
    "\t\t\tnn.ReLU(inplace=True),\n",
    "\n",
    "\t\t\tnn.ConvTranspose2d(32, 40, 3),\n",
    "\t\t\tnn.ReLU(inplace=True),\n",
    "\n",
    "\t\t\tnn.ConvTranspose2d(40, 1, 3),\n",
    "\t\t)\n",
    "\n",
    "\tdef forward(self, x):\n",
    "\t\tx = self.deconvs(x)\n",
    "\n",
    "\t\treturn x"
   ]
  },
  {
   "cell_type": "code",
   "execution_count": 81,
   "metadata": {},
   "outputs": [
    {
     "name": "stdout",
     "output_type": "stream",
     "text": [
      "noise shape: torch.Size([4, 1, 10, 10])\n",
      "out shape: torch.Size([4, 1, 18, 18])\n",
      "out 0 shape: torch.Size([1, 18, 18])\n"
     ]
    },
    {
     "data": {
      "text/plain": [
       "<matplotlib.image.AxesImage at 0x16b3b8c10>"
      ]
     },
     "execution_count": 81,
     "metadata": {},
     "output_type": "execute_result"
    },
    {
     "data": {
      "image/png": "[encoded data removed]",
      "text/plain": [
       "<Figure size 432x288 with 1 Axes>"
      ]
     },
     "metadata": {
      "needs_background": "light"
     },
     "output_type": "display_data"
    }
   ],
   "source": [
    "generator = G()\n",
    "\n",
    "noise = torch.randn(BATCH, 1, 10, 10)\n",
    "print('noise shape:', noise.shape)\n",
    "\n",
    "out = generator(noise)\n",
    "\n",
    "print('out shape:', out.shape)\n",
    "print('out 0 shape:', out[0].shape)\n",
    "\n",
    "imshow(out[0].reshape(18, 18).detach())"
   ]
  },
  {
   "cell_type": "code",
   "execution_count": null,
   "metadata": {},
   "outputs": [],
   "source": [
    "class D(nn.Module):\n",
    "\tdef __init__(self):\n",
    "\t\tsuper(D, self).__init___()\n",
    "\n",
    "\tdef forward(self, x):\n",
    "\t\tpass"
   ]
  },
  {
   "cell_type": "code",
   "execution_count": null,
   "metadata": {},
   "outputs": [],
   "source": []
  },
  {
   "cell_type": "code",
   "execution_count": null,
   "metadata": {},
   "outputs": [],
   "source": []
  }
 ],
 "metadata": {
  "interpreter": {
   "hash": "aee8b7b246df8f9039afb4144a1f6fd8d2ca17a180786b69acc140d282b71a49"
  },
  "kernelspec": {
   "display_name": "Python 3.9.5 64-bit",
   "language": "python",
   "name": "python3"
  },
  "language_info": {
   "codemirror_mode": {
    "name": "ipython",
    "version": 3
   },
   "file_extension": ".py",
   "mimetype": "text/x-python",
   "name": "python",
   "nbconvert_exporter": "python",
   "pygments_lexer": "ipython3",
   "version": "3.9.5"
  },
  "orig_nbformat": 4
 },
 "nbformat": 4,
 "nbformat_minor": 2
}
