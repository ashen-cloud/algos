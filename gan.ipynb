{
  "cells": [
    {
      "cell_type": "code",
      "execution_count": 1,
      "metadata": {
        "id": "XsITA2WQnWw_",
        "outputId": "4f0761c4-52ea-4867-900f-54d4dc0a109c",
        "colab": {
          "base_uri": "https://localhost:8080/"
        }
      },
      "outputs": [
        {
          "output_type": "stream",
          "name": "stdout",
          "text": [
            "Populating the interactive namespace from numpy and matplotlib\n"
          ]
        }
      ],
      "source": [
        "%pylab inline\n",
        "\n",
        "import matplotlib.pyplot as plt\n",
        "\n",
        "import torch\n",
        "import torch.nn as nn\n",
        "import torch.optim as optim\n",
        "import torchvision.transforms as transforms\n",
        "\n",
        "from torchvision import datasets\n",
        "from torchvision.transforms import ToTensor, Grayscale\n",
        "\n",
        "# from tqdm import trange, tqdm\n",
        "from functools import partial\n",
        "from tqdm import tqdm, trange\n",
        "tqdm = partial(tqdm, position=0, leave=True)\n"
      ]
    },
    {
      "cell_type": "code",
      "execution_count": 2,
      "metadata": {
        "id": "sdR7i10_nWxD"
      },
      "outputs": [],
      "source": [
        "import warnings\n",
        "warnings.filterwarnings('ignore')\n"
      ]
    },
    {
      "cell_type": "code",
      "execution_count": 3,
      "metadata": {
        "id": "Wl9x7ftgnWxD"
      },
      "outputs": [],
      "source": [
        "BATCH=1"
      ]
    },
    {
      "cell_type": "code",
      "execution_count": 4,
      "metadata": {
        "id": "NyL_FBNVnWxE",
        "colab": {
          "base_uri": "https://localhost:8080/"
        },
        "outputId": "17ff8520-1b41-4b9c-89a4-d957bc520347"
      },
      "outputs": [
        {
          "output_type": "stream",
          "name": "stdout",
          "text": [
            "60000\n"
          ]
        }
      ],
      "source": [
        "train_data = datasets.MNIST(\n",
        "\troot='data',\n",
        "\ttrain=True,\n",
        "\ttransform=transforms.Compose([\n",
        "\t\tToTensor(),\n",
        "\t\t# Grayscale(1),\n",
        "\t\t# transforms.Normalize((0.1307,), (0.3081,)),\n",
        "\t]),\n",
        "\tdownload=True,\n",
        ");\n",
        "\n",
        "trainloader = torch.utils.data.DataLoader(\n",
        "\ttrain_data,\n",
        "\tbatch_size=BATCH,\n",
        "\tnum_workers=12,\n",
        "\tshuffle=True\n",
        ")\n",
        "print(len(trainloader))"
      ]
    },
    {
      "cell_type": "code",
      "source": [
        ""
      ],
      "metadata": {
        "id": "NUb3_kbMLDnZ"
      },
      "execution_count": 4,
      "outputs": []
    },
    {
      "cell_type": "code",
      "execution_count": 5,
      "metadata": {
        "id": "4SXN07sznWxE",
        "outputId": "e723f597-9c90-4a58-a2a4-33e20e30de0e",
        "colab": {
          "base_uri": "https://localhost:8080/",
          "height": 282
        }
      },
      "outputs": [
        {
          "output_type": "stream",
          "name": "stdout",
          "text": [
            "torch.Size([1, 1, 28, 28])\n"
          ]
        },
        {
          "output_type": "display_data",
          "data": {
            "text/plain": [
              "<Figure size 432x288 with 1 Axes>"
            ],
            "image/png": "[encoded data removed]"
          },
          "metadata": {
            "needs_background": "light"
          }
        }
      ],
      "source": [
        "for i, data in enumerate(trainloader):\n",
        "\tif i == 10:\n",
        "\t\tprint(data[0].shape)\n",
        "\t\timshow(data[0].reshape(28,28).numpy())\n",
        "\t\tbreak"
      ]
    },
    {
      "cell_type": "code",
      "execution_count": 6,
      "metadata": {
        "id": "PDJrMjMwnWxE"
      },
      "outputs": [],
      "source": [
        "class G(nn.Module):\n",
        "\tdef __init__(self):\n",
        "\t\tsuper(G, self).__init__()\n",
        "\n",
        "\t\tself.deconvs = nn.Sequential(\n",
        "\t\t\tnn.ConvTranspose2d(1, 24, 3),\n",
        "\t\t\tnn.ReLU(inplace=True),\n",
        "\n",
        "\t\t\tnn.ConvTranspose2d(24, 32, 3),\n",
        "\t\t\tnn.ReLU(inplace=True),\n",
        "\n",
        "\t\t\tnn.ConvTranspose2d(32, 40, 3),\n",
        "\t\t\tnn.ReLU(inplace=True),\n",
        "\n",
        "\t\t\tnn.ConvTranspose2d(40, 1, 3),\n",
        "\t\t)\n",
        "\n",
        "\tdef forward(self, x):\n",
        "\t\tx = self.deconvs(x)\n",
        "\n",
        "\t\treturn x"
      ]
    },
    {
      "cell_type": "code",
      "execution_count": 7,
      "metadata": {
        "id": "UpzYo3yenWxF",
        "outputId": "3b623e49-52bd-4e4c-acc2-80a69aa494f8",
        "colab": {
          "base_uri": "https://localhost:8080/",
          "height": 334
        }
      },
      "outputs": [
        {
          "output_type": "stream",
          "name": "stdout",
          "text": [
            "noise shape: torch.Size([1, 1, 20, 20])\n",
            "out shape: torch.Size([1, 1, 28, 28])\n",
            "out 0 shape: torch.Size([1, 28, 28])\n"
          ]
        },
        {
          "output_type": "execute_result",
          "data": {
            "text/plain": [
              "<matplotlib.image.AxesImage at 0x7fda99f64bd0>"
            ]
          },
          "metadata": {},
          "execution_count": 7
        },
        {
          "output_type": "display_data",
          "data": {
            "text/plain": [
              "<Figure size 432x288 with 1 Axes>"
            ],
            "image/png": "[encoded data removed]"
          },
          "metadata": {
            "needs_background": "light"
          }
        }
      ],
      "source": [
        "t_generator = G().cuda()\n",
        "\n",
        "t_noise = torch.randn(BATCH, 1, 20, 20).cuda()\n",
        "print('noise shape:', t_noise.shape)\n",
        "\n",
        "t_out = t_generator(t_noise)\n",
        "\n",
        "print('out shape:', t_out.shape)\n",
        "print('out 0 shape:', t_out[0].shape)\n",
        "\n",
        "imshow(t_out[0].reshape(28, 28).cpu().detach())"
      ]
    },
    {
      "cell_type": "code",
      "source": [
        ""
      ],
      "metadata": {
        "id": "pHWgK6XJItnV"
      },
      "execution_count": 7,
      "outputs": []
    },
    {
      "cell_type": "code",
      "execution_count": 8,
      "metadata": {
        "id": "IdzNrh3AnWxF"
      },
      "outputs": [],
      "source": [
        "class D(nn.Module):\n",
        "\tdef __init__(self):\n",
        "\t\tsuper(D, self).__init__()\n",
        "\n",
        "\t\tself.convs = nn.Sequential(\n",
        "\t\t\tnn.Conv2d(1, 16, 3),\n",
        "\t\t\tnn.BatchNorm2d(16),\n",
        "\t\t\tnn.LeakyReLU(inplace=True),\n",
        "\n",
        "\t\t\tnn.Conv2d(16, 32, 3),\n",
        "\t\t\tnn.BatchNorm2d(32),\n",
        "\t\t\tnn.LeakyReLU(inplace=True),\n",
        "\n",
        "\t\t\tnn.Conv2d(32, 64, 3),\n",
        "\t\t\tnn.BatchNorm2d(64),\n",
        "\t\t\tnn.Sigmoid(),\n",
        "\t\t)\n",
        "\n",
        "\t\tself.classifier = nn.Linear(64 * 22 * 22, 1)\n",
        "\n",
        "\tdef forward(self, x):\n",
        "\t\tx = self.convs(x)\n",
        "\n",
        "\t\tx = x.reshape(x.shape[0], -1)\n",
        "\n",
        "\t\tx = self.classifier(x)\n",
        "\n",
        "\t\treturn x"
      ]
    },
    {
      "cell_type": "code",
      "execution_count": 9,
      "metadata": {
        "id": "ckTiGhFdnWxF"
      },
      "outputs": [],
      "source": [
        "generator = G().cuda()\n",
        "discriminator = D().cuda()"
      ]
    },
    {
      "cell_type": "code",
      "execution_count": 10,
      "metadata": {
        "id": "T7_nsK17nWxG"
      },
      "outputs": [],
      "source": [
        "# loss_fn = nn.BCEWithLogitsLoss().cuda()\n",
        "loss_fn = nn.BCEWithLogitsLoss().cuda()\n",
        "\n",
        "g_optim = optim.Adam(generator.parameters(), lr=0.001) # 3e-4\n",
        "d_optim = optim.Adam(discriminator.parameters(), lr=0.001)\n",
        "\n",
        "EPOCHS = 10\n",
        "\n",
        "losses = []\n",
        "em_losses = []"
      ]
    },
    {
      "cell_type": "code",
      "source": [
        "def test_render(g):\n",
        "  n1 = torch.randn(BATCH, 1, 20, 20).cuda()\n",
        "  out = g(n1)\n",
        "  imshow(out[0].reshape(28, 28).cpu().detach())"
      ],
      "metadata": {
        "id": "-Nn3Sfu7bhKq"
      },
      "execution_count": 11,
      "outputs": []
    },
    {
      "cell_type": "code",
      "source": [
        "test_render(generator)"
      ],
      "metadata": {
        "colab": {
          "base_uri": "https://localhost:8080/",
          "height": 265
        },
        "id": "eqPWYy_cb0Us",
        "outputId": "85c7c522-10a1-4e79-d170-df46842525af"
      },
      "execution_count": 12,
      "outputs": [
        {
          "output_type": "display_data",
          "data": {
            "text/plain": [
              "<Figure size 432x288 with 1 Axes>"
            ],
            "image/png": "[encoded data removed]"
          },
          "metadata": {
            "needs_background": "light"
          }
        }
      ]
    },
    {
      "cell_type": "code",
      "execution_count": null,
      "metadata": {
        "id": "hg_jPrIgnWxG",
        "outputId": "f05feb9f-c39a-4d11-b167-b55033192907",
        "colab": {
          "base_uri": "https://localhost:8080/"
        }
      },
      "outputs": [
        {
          "output_type": "stream",
          "name": "stderr",
          "text": [
            "29861it [06:22, 78.40it/s]"
          ]
        }
      ],
      "source": [
        "for epoch in trange(EPOCHS):\n",
        "\tfor i, data in tqdm(enumerate(trainloader)):\n",
        "\t\t# if i > 5000: break\n",
        "\n",
        "\t\timages = data[0].cuda()\n",
        "\n",
        "\t\t# train discriminator\n",
        "\t\td_out_real = discriminator(images)\n",
        "\t\td_optim.zero_grad()\n",
        "\t\td_loss_real = loss_fn(d_out_real, torch.ones(BATCH, 1).cuda())\n",
        "\t\td_loss_real.backward()\n",
        "\t\td_optim.step()\n",
        "\n",
        "\t\tnoise1 = torch.randn(BATCH, 1, 20, 20).cuda()\n",
        "\t\tg_out_fake = generator(noise1)\n",
        "\t\td_out_fake = discriminator(g_out_fake)\n",
        "\t\td_optim.zero_grad()\n",
        "\t\td_loss_fake = loss_fn(d_out_fake, torch.ones(BATCH, 1).cuda())\n",
        "\t\td_loss_fake.backward()\n",
        "\t\td_optim.step()\n",
        "\t\t\n",
        "\t\t# train generator\n",
        "\t\tnoise2 = torch.randn(BATCH, 1, 20, 20).cuda()\n",
        "\t\tg_out = generator(noise2)\n",
        "\t\td_out = discriminator(g_out)\n",
        "\t\tg_optim.zero_grad()\n",
        "\t\tt_loss = loss_fn(d_out, torch.ones(BATCH, 1).cuda())\n",
        "\t\tt_loss.backward()\n",
        "\t\tg_optim.step()\n",
        "\n",
        "\ttest_render(generator)\n"
      ]
    },
    {
      "cell_type": "code",
      "source": [
        ""
      ],
      "metadata": {
        "id": "zG4qhX-4oMsj"
      },
      "execution_count": null,
      "outputs": []
    },
    {
      "cell_type": "code",
      "source": [
        ""
      ],
      "metadata": {
        "id": "Pl6d0fOVoED4"
      },
      "execution_count": null,
      "outputs": []
    },
    {
      "cell_type": "code",
      "execution_count": null,
      "metadata": {
        "id": "6Dw5EtU0nWxG"
      },
      "outputs": [],
      "source": [
        "n1 = torch.randn(BATCH, 1, 20, 20).cuda()\n",
        "out = generator(n1)\n",
        "imshow(out[0].reshape(28, 28).cpu().detach())"
      ]
    }
  ],
  "metadata": {
    "interpreter": {
      "hash": "aee8b7b246df8f9039afb4144a1f6fd8d2ca17a180786b69acc140d282b71a49"
    },
    "kernelspec": {
      "display_name": "Python 3.9.5 64-bit",
      "language": "python",
      "name": "python3"
    },
    "language_info": {
      "codemirror_mode": {
        "name": "ipython",
        "version": 3
      },
      "file_extension": ".py",
      "mimetype": "text/x-python",
      "name": "python",
      "nbconvert_exporter": "python",
      "pygments_lexer": "ipython3",
      "version": "3.9.5"
    },
    "orig_nbformat": 4,
    "colab": {
      "name": "gan.ipynb",
      "provenance": [],
      "collapsed_sections": [],
      "machine_shape": "hm"
    },
    "accelerator": "GPU",
    "gpuClass": "standard"
  },
  "nbformat": 4,
  "nbformat_minor": 0
}