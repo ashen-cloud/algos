{
  "nbformat": 4,
  "nbformat_minor": 0,
  "metadata": {
    "colab": {
      "name": "lstm.ipynb",
      "provenance": [],
      "collapsed_sections": [],
      "authorship_tag": "ABX9TyOBCCDXwX3DHm2/5sGMVvIh"
    },
    "kernelspec": {
      "name": "python3",
      "display_name": "Python 3"
    },
    "language_info": {
      "name": "python"
    },
    "gpuClass": "standard",
    "accelerator": "GPU"
  },
  "cells": [
    {
      "cell_type": "code",
      "execution_count": 26,
      "metadata": {
        "colab": {
          "base_uri": "https://localhost:8080/"
        },
        "id": "wHn6K0u3-2lF",
        "outputId": "69d76099-049d-40d6-9308-d0a50f425e87"
      },
      "outputs": [
        {
          "output_type": "stream",
          "name": "stdout",
          "text": [
            "Populating the interactive namespace from numpy and matplotlib\n"
          ]
        }
      ],
      "source": [
        "%pylab inline\n",
        "\n",
        "import matplotlib.pyplot as plt\n",
        "import requests\n",
        "import zipfile\n",
        "import re\n",
        "from collections import Counter\n",
        "\n",
        "import torch\n",
        "import torch.nn as nn\n",
        "import torch.optim as optim\n",
        "from torch.utils.data import Dataset, DataLoader\n",
        "from torchtext.data.utils import get_tokenizer\n",
        "from torchtext.vocab import build_vocab_from_iterator, GloVe, vocab\n",
        "\n",
        "\n",
        "from functools import partial,reduce\n",
        "from tqdm import tqdm, trange\n",
        "tqdm = partial(tqdm, position=0, leave=True)\n",
        "trange = partial(trange, position=0, leave=True)\n",
        "\n",
        "import numpy as np\n",
        "\n",
        "\n",
        "DEVICE = 'cuda:0'"
      ]
    },
    {
      "cell_type": "code",
      "source": [
        "url = 'http://www.cs.cornell.edu/~cristian/data/cornell_movie_dialogs_corpus.zip'\n",
        "\n",
        "r = requests.get(url)\n",
        "\n",
        "ul = url.split('/')\n",
        "name = ul[len(ul) - 1]\n",
        "\n",
        "with open(name, 'wb') as file:\n",
        "  file.write(r.content)\n",
        "\n",
        "with zipfile.ZipFile(name, \"r\") as zip_ref:\n",
        "  zip_ref.extractall(\"./\")\n",
        "\n",
        "!mv 'cornell movie-dialogs corpus' 'data'\n",
        "!ls 'data'"
      ],
      "metadata": {
        "colab": {
          "base_uri": "https://localhost:8080/"
        },
        "id": "SN_cyVT6eQQM",
        "outputId": "907bb639-717a-489f-f1ff-a299f0c7e510"
      },
      "execution_count": 27,
      "outputs": [
        {
          "output_type": "stream",
          "name": "stdout",
          "text": [
            " chameleons.pdf\t\t\t movie_lines.txt\n",
            "'cornell movie-dialogs corpus'\t movie_titles_metadata.txt\n",
            " movie_characters_metadata.txt\t raw_script_urls.txt\n",
            " movie_conversations.txt\t README.txt\n"
          ]
        }
      ]
    },
    {
      "cell_type": "code",
      "source": [
        ""
      ],
      "metadata": {
        "id": "V_jfwwVQKw-o"
      },
      "execution_count": 27,
      "outputs": []
    },
    {
      "cell_type": "code",
      "source": [
        "FIELD_SPLITTER = '+++$+++'\n",
        "\n",
        "MAX_SAMPLES = 50000\n",
        "MAX_LENGTH = 40\n",
        "\n",
        "UNK_TOKEN = '<unk>'\n",
        "PAD_TOKEN = '<PAD>'\n",
        "BOS_TOKEN = '<BOS>'\n",
        "EOS_TOKEN = '<EOS>'\n",
        "\n",
        "UNK_TOKEN_IND = 0\n",
        "PAD_TOKEN_IND = 1\n",
        "BOS_TOKEN_IND = 2\n",
        "EOS_TOKEN_IND = 3\n",
        "\n",
        "BATCH = 128"
      ],
      "metadata": {
        "id": "Kx8U5FhayR-T"
      },
      "execution_count": 28,
      "outputs": []
    },
    {
      "cell_type": "code",
      "source": [
        ""
      ],
      "metadata": {
        "id": "PW9kkcKGvkht"
      },
      "execution_count": 28,
      "outputs": []
    },
    {
      "cell_type": "code",
      "source": [
        "def preprocess_sentence(sentence):\n",
        "    sentence = sentence.lower().strip()\n",
        "    sentence = re.sub(r\"([?.!,])\", r\" \\1 \", sentence)\n",
        "    sentence = re.sub(r'[\" \"]+', \" \", sentence)\n",
        "    sentence = re.sub(r\"[^a-zA-Z?.!,]+\", \" \", sentence)\n",
        "    sentence = sentence.strip()\n",
        "    return sentence"
      ],
      "metadata": {
        "id": "-FmVEHllv777"
      },
      "execution_count": 29,
      "outputs": []
    },
    {
      "cell_type": "code",
      "source": [
        "text_transform = lambda x, voc, tokenizer: [voc['<BOS>']] + [voc[token] for token in tokenizer(x)] + [voc['<EOS>']]"
      ],
      "metadata": {
        "id": "5xjiwfyZwZbt"
      },
      "execution_count": 30,
      "outputs": []
    },
    {
      "cell_type": "code",
      "source": [
        "# this is terrible as fuck because torchtext is terrible as fuck\n",
        "def load_conversations(path_to_movie_lines, path_to_movie_conversations):\n",
        "    id2line = {}\n",
        "    with open(path_to_movie_lines, errors='ignore') as file:\n",
        "        lines = file.readlines()\n",
        "        for line in lines:\n",
        "            parts = line.replace('\\n', '').split(' +++$+++ ')\n",
        "            id2line[parts[0]] = parts[4]\n",
        "\n",
        "    inputs, outputs = [], []\n",
        "    with open(path_to_movie_conversations, 'r') as file:\n",
        "        lines = file.readlines()\n",
        "        for line in lines:\n",
        "            parts = line.replace('\\n', '').split(' +++$+++ ')\n",
        "            conversation = [line[1:-1] for line in parts[3][1:-1].split(', ')]\n",
        "            for i in range(len(conversation) - 1):\n",
        "                inputs.append(preprocess_sentence(id2line[conversation[i]]))\n",
        "                outputs.append(preprocess_sentence(id2line[conversation[i + 1]]))\n",
        "                if len(inputs) >= MAX_SAMPLES:\n",
        "                    return inputs, outputs\n",
        "    return inputs, outputs\n"
      ],
      "metadata": {
        "id": "-sijVHLArNQJ"
      },
      "execution_count": 31,
      "outputs": []
    },
    {
      "cell_type": "code",
      "source": [
        "def get_dataloader(path_to_movie_lines,\n",
        "                   path_to_movie_conversations):\n",
        "    questions, answers = load_conversations(path_to_movie_lines, path_to_movie_conversations)\n",
        "\n",
        "    tokenizer = get_tokenizer('basic_english')\n",
        "\n",
        "    counter = Counter()\n",
        "    for sent in questions + answers:\n",
        "        counter.update(tokenizer(sent))\n",
        "\n",
        "    voc = vocab(counter)\n",
        "    voc.insert_token(token=UNK_TOKEN, index=UNK_TOKEN_IND)\n",
        "    voc.set_default_index(index=UNK_TOKEN_IND)\n",
        "    voc.insert_token(token=PAD_TOKEN, index=PAD_TOKEN_IND)\n",
        "    voc.insert_token(token=BOS_TOKEN, index=BOS_TOKEN_IND)\n",
        "    voc.insert_token(token=EOS_TOKEN, index=EOS_TOKEN_IND)\n",
        "\n",
        "    q_tokenized = [text_transform(t, voc, tokenizer) for t in questions]\n",
        "    a_tokenized = [text_transform(t, voc, tokenizer) for t in answers]\n",
        "\n",
        "    import tensorflow as tf # todo\n",
        "    q_padded = tf.keras.preprocessing.sequence.pad_sequences(\n",
        "        q_tokenized, maxlen=MAX_LENGTH, padding='post', value=1.0)\n",
        "\n",
        "    a_padded = tf.keras.preprocessing.sequence.pad_sequences(\n",
        "        a_tokenized, maxlen=MAX_LENGTH, padding='post', value=1.0)\n",
        "\n",
        "    print(\"Vocab len\", len(voc))\n",
        "\n",
        "    dataloader = DataLoader(\n",
        "        list(\n",
        "            zip(\n",
        "                  q_padded.astype(np.float32),\n",
        "                  a_padded.astype(np.float32),\n",
        "                )\n",
        "            ),\n",
        "            batch_size=BATCH,\n",
        "            shuffle=False,\n",
        "    )\n",
        "\n",
        "    print(voc)\n",
        "    torch.save(voc, 'vocab')\n",
        "\n",
        "    return dataloader, text_transform, voc\n"
      ],
      "metadata": {
        "id": "dblp_TVLqvav"
      },
      "execution_count": 32,
      "outputs": []
    },
    {
      "cell_type": "code",
      "source": [
        ""
      ],
      "metadata": {
        "id": "e3T8xN1yxmyc"
      },
      "execution_count": 32,
      "outputs": []
    },
    {
      "cell_type": "code",
      "source": [
        "lines_path = 'data/movie_lines.txt'\n",
        "conversations_path = 'data/movie_conversations.txt'    \n",
        "\n",
        "dataloader, text_transform, voc = get_dataloader(lines_path,\n",
        "                                                 conversations_path)"
      ],
      "metadata": {
        "colab": {
          "base_uri": "https://localhost:8080/"
        },
        "id": "e42tdLcayovn",
        "outputId": "b3de1222-71b6-4da2-d17b-75389cb24458"
      },
      "execution_count": 33,
      "outputs": [
        {
          "output_type": "stream",
          "name": "stdout",
          "text": [
            "Vocab len 23068\n",
            "Vocab()\n"
          ]
        }
      ]
    },
    {
      "cell_type": "code",
      "source": [
        "test_sample = None\n",
        "\n",
        "for i,x in enumerate(dataloader):\n",
        "  if i > 1: break\n",
        "  print(x[0].shape)\n",
        "  test_sample = x[0]"
      ],
      "metadata": {
        "colab": {
          "base_uri": "https://localhost:8080/"
        },
        "id": "WMyWFI7N3VVf",
        "outputId": "1461aec8-bb06-4478-d9be-5b9b5f8f8166"
      },
      "execution_count": 34,
      "outputs": [
        {
          "output_type": "stream",
          "name": "stdout",
          "text": [
            "torch.Size([128, 40])\n",
            "torch.Size([128, 40])\n"
          ]
        }
      ]
    },
    {
      "cell_type": "code",
      "source": [
        ""
      ],
      "metadata": {
        "id": "OG_PUCipfDAT"
      },
      "execution_count": 34,
      "outputs": []
    },
    {
      "cell_type": "code",
      "source": [
        "# https://external-content.duckduckgo.com/iu/?u=https%3A%2F%2Fwww.oreilly.com%2Flibrary%2Fview%2Fneural-networks-and%2F9781492037354%2Fassets%2Fmlst_1413.png&f=1&nofb=1\n",
        "class myLSTM(nn.Module):\n",
        "  def __init__(self, isize, osize):\n",
        "    super(myLSTM, self).__init__()\n",
        "\n",
        "    self.isize = isize\n",
        "    self.osize = osize\n",
        "\n",
        "    # sizes are questionable\n",
        "    self.f = nn.Linear(isize, osize)\n",
        "    self.g = nn.Linear(isize, osize)\n",
        "    self.i = nn.Linear(isize, osize)\n",
        "    self.o = nn.Linear(isize, osize)\n",
        "\n",
        "    self.tanh = nn.Tanh()\n",
        "    self.sigmoid = nn.Sigmoid()\n",
        "\n",
        "  def forget_gate(self, h, x, c):\n",
        "    fho = self.f(h)\n",
        "    fxo = self.f(x)\n",
        "\n",
        "    fo = fho + fxo\n",
        "    fos = self.sigmoid(fo)\n",
        "    out = torch.mul(c, fos)\n",
        "\n",
        "    return out\n",
        "\n",
        "  def input_gate(self, h, x):\n",
        "    gho = self.g(h)\n",
        "    gxo = self.g(x)\n",
        "    go = gho + gxo\n",
        "    gto = self.tanh(go)\n",
        "\n",
        "    iho = self.i(h)\n",
        "    ixo = self.i(x)\n",
        "    io = iho + ixo\n",
        "    ito = self.sigmoid(io)\n",
        "\n",
        "    out = torch.mul(gto, ito)\n",
        "\n",
        "    return out\n",
        "\n",
        "  def output_gate(self, h, x, cn):\n",
        "    oho = self.o(h)\n",
        "    oxo = self.o(x)\n",
        "    oo = oho + oxo\n",
        "\n",
        "    out = torch.mul(oo, cn)\n",
        "\n",
        "    return out\n",
        "\n",
        "  def forward(self, x, h0=None, c0=None):\n",
        "    if not h0:\n",
        "      h0 = torch.zeros(x.shape[0], self.isize)\n",
        "    if not c0:\n",
        "      c0 = torch.zeros(x.shape[0], self.osize)\n",
        "\n",
        "    fg_out = self.forget_gate(h0, x, c0)\n",
        "    ig_out = self.input_gate(h0, x)\n",
        "\n",
        "    c_new = fg_out + ig_out\n",
        "\n",
        "    cnt = self.tanh(c_new) \n",
        "\n",
        "    h_new = self.output_gate(h0, x, c_new)\n",
        "\n",
        "    out = h_new\n",
        "\n",
        "    # is this for real how it's done?\n",
        "    return out, (h_new[len(h_new) - 1].reshape(1, self.osize),\n",
        "                 c_new[len(h_new) - 1].reshape(1, self.osize))\n"
      ],
      "metadata": {
        "id": "Iajk3iU8hKlB"
      },
      "execution_count": 35,
      "outputs": []
    },
    {
      "cell_type": "code",
      "source": [
        "my_lstm = myLSTM(40, 80)\n",
        "\n",
        "for p in my_lstm.parameters():\n",
        "  print(p.shape)\n",
        "\n",
        "print('\\n')\n",
        "\n",
        "out, (h, c) = my_lstm(test_sample)\n",
        "\n",
        "print(out.shape)\n",
        "print('\\n----------------')\n",
        "print(h.shape)\n",
        "print('\\n----------------')\n",
        "print(c.shape)"
      ],
      "metadata": {
        "colab": {
          "base_uri": "https://localhost:8080/"
        },
        "id": "Ic6e2QJcHlqj",
        "outputId": "86991be2-125c-4d4d-c744-d0ee864f7086"
      },
      "execution_count": 36,
      "outputs": [
        {
          "output_type": "stream",
          "name": "stdout",
          "text": [
            "torch.Size([80, 40])\n",
            "torch.Size([80])\n",
            "torch.Size([80, 40])\n",
            "torch.Size([80])\n",
            "torch.Size([80, 40])\n",
            "torch.Size([80])\n",
            "torch.Size([80, 40])\n",
            "torch.Size([80])\n",
            "\n",
            "\n",
            "torch.Size([128, 80])\n",
            "\n",
            "----------------\n",
            "torch.Size([1, 80])\n",
            "\n",
            "----------------\n",
            "torch.Size([1, 80])\n"
          ]
        }
      ]
    },
    {
      "cell_type": "code",
      "source": [
        ""
      ],
      "metadata": {
        "id": "YImpb8ymHlsy"
      },
      "execution_count": 36,
      "outputs": []
    },
    {
      "cell_type": "code",
      "source": [
        ""
      ],
      "metadata": {
        "id": "xcvxNbhgfh3S"
      },
      "execution_count": 36,
      "outputs": []
    },
    {
      "cell_type": "code",
      "source": [
        "print(test_sample.shape)\n",
        "print(test_sample.dtype)"
      ],
      "metadata": {
        "colab": {
          "base_uri": "https://localhost:8080/"
        },
        "id": "t_FMbHcG3-e-",
        "outputId": "513b6089-2726-4c5d-d4ed-50ecdee194ff"
      },
      "execution_count": 37,
      "outputs": [
        {
          "output_type": "stream",
          "name": "stdout",
          "text": [
            "torch.Size([128, 40])\n",
            "torch.float32\n"
          ]
        }
      ]
    },
    {
      "cell_type": "code",
      "source": [
        "t_lstm = nn.LSTM(40, 80, batch_first=True)\n",
        "\n",
        "for p in t_lstm.parameters():\n",
        "  print(p.shape)\n",
        "\n",
        "print('\\n')\n",
        "\n",
        "res, (h_s, c_s) = t_lstm(test_sample)\n",
        "\n",
        "print(res.shape)\n",
        "print('\\n---------')\n",
        "print(h_s.shape)\n",
        "print('\\n---------')\n",
        "print(c_s.shape)\n",
        "print('\\n---------')"
      ],
      "metadata": {
        "id": "QfkMe8hL0oi7",
        "colab": {
          "base_uri": "https://localhost:8080/"
        },
        "outputId": "5befa565-bc63-4dda-a88d-3a5ccdcad65e"
      },
      "execution_count": 38,
      "outputs": [
        {
          "output_type": "stream",
          "name": "stdout",
          "text": [
            "torch.Size([320, 40])\n",
            "torch.Size([320, 80])\n",
            "torch.Size([320])\n",
            "torch.Size([320])\n",
            "\n",
            "\n",
            "torch.Size([128, 80])\n",
            "\n",
            "---------\n",
            "torch.Size([1, 80])\n",
            "\n",
            "---------\n",
            "torch.Size([1, 80])\n",
            "\n",
            "---------\n"
          ]
        }
      ]
    },
    {
      "cell_type": "code",
      "source": [
        ""
      ],
      "metadata": {
        "id": "Jxr4MUuSKxHR"
      },
      "execution_count": 38,
      "outputs": []
    },
    {
      "cell_type": "code",
      "source": [
        "class Encoder(nn.Module):\n",
        "  def __init__(self):\n",
        "      super(Encoder, self).__init__()\n",
        "      self.lstm = nn.LSTM(40, 80, batch_first=True)\n",
        "\n",
        "  def forward(self, x):\n",
        "    x, (h, c) = self.lstm(x)\n",
        "    return x, (h, c)"
      ],
      "metadata": {
        "id": "B_OfGA35gbyV"
      },
      "execution_count": 39,
      "outputs": []
    },
    {
      "cell_type": "code",
      "source": [
        "class Decoder(nn.Module):\n",
        "  def __init__(self):\n",
        "      super(Decoder, self).__init__()\n",
        "      self.lstm = nn.LSTM(80, 80, batch_first=True)\n",
        "      self.lin = nn.Linear(80, 40)\n",
        "\n",
        "  def forward(self, x):\n",
        "    e_o, (h, c) = x\n",
        "    o, _ = self.lstm(e_o, (h, c))\n",
        "    o = self.lin(o)\n",
        "    return x"
      ],
      "metadata": {
        "id": "daNZmFaLuKfv"
      },
      "execution_count": 40,
      "outputs": []
    },
    {
      "cell_type": "code",
      "source": [
        ""
      ],
      "metadata": {
        "id": "WZf8kFUluKhx"
      },
      "execution_count": 40,
      "outputs": []
    },
    {
      "cell_type": "code",
      "source": [
        ""
      ],
      "metadata": {
        "id": "wi7GRvfpevfS"
      },
      "execution_count": 41,
      "outputs": []
    },
    {
      "cell_type": "code",
      "source": [
        "encoder = Encoder().to(DEVICE)\n",
        "decoder = Decoder().to(DEVICE)\n",
        "\n",
        "e_optim = optim.Adam(params=encoder.parameters(), lr=0.001)\n",
        "d_optim = optim.Adam(params=decoder.parameters(), lr=0.001)\n",
        "\n",
        "loss_fn = nn.CrossEntropyLoss().to(DEVICE)\n",
        "\n",
        "EPOCHS = 4\n",
        "\n",
        "losses = []"
      ],
      "metadata": {
        "id": "lKZsejM8kabv"
      },
      "execution_count": 57,
      "outputs": []
    },
    {
      "cell_type": "code",
      "source": [
        "for epoch in trange(EPOCHS):\n",
        "  for i, data in tqdm(enumerate(dataloader)):\n",
        "    i_seq = data[0].to(DEVICE)\n",
        "\n",
        "    e_out = encoder(i_seq)\n",
        "    d_out, _ = decoder(e_out)\n",
        "\n",
        "    loss = loss_fn(e_out[0], d_out)\n",
        "\n",
        "    e_optim.zero_grad()\n",
        "    d_optim.zero_grad()\n",
        "\n",
        "    loss.backward()\n",
        "\n",
        "    losses.append(loss.item())\n",
        "\n",
        "    e_optim.step()\n",
        "    d_optim.step()"
      ],
      "metadata": {
        "id": "QtVP3qoOKxRU",
        "colab": {
          "base_uri": "https://localhost:8080/"
        },
        "outputId": "9c945a2a-5e65-454f-aa8a-f599a28b01c7"
      },
      "execution_count": 58,
      "outputs": [
        {
          "output_type": "stream",
          "name": "stderr",
          "text": [
            "391it [00:02, 174.12it/s]\n",
            "391it [00:02, 177.88it/s]\n",
            "391it [00:02, 177.87it/s]\n",
            "391it [00:02, 179.40it/s]\n",
            "100%|██████████| 4/4 [00:08<00:00,  2.21s/it]\n"
          ]
        }
      ]
    },
    {
      "cell_type": "code",
      "source": [
        "plt.plot(range(len(losses)), losses, 'b', label='Loss')\n",
        "plt.title('Losses')\n",
        "plt.show()"
      ],
      "metadata": {
        "id": "y4GSVA0xKxVh",
        "colab": {
          "base_uri": "https://localhost:8080/",
          "height": 281
        },
        "outputId": "c7b5e93a-1d3a-4641-fe91-61742197cee1"
      },
      "execution_count": 59,
      "outputs": [
        {
          "output_type": "display_data",
          "data": {
            "text/plain": [
              "<Figure size 432x288 with 1 Axes>"
            ],
            "image/png": "[encoded data removed]"
          },
          "metadata": {
            "needs_background": "light"
          }
        }
      ]
    },
    {
      "cell_type": "code",
      "source": [
        "query = 'test'\n",
        "\n",
        "q_tr = text_transform(query, voc, get_tokenizer('basic_english'))\n",
        "import tensorflow as tf\n",
        "q_p = tf.keras.preprocessing.sequence.pad_sequences(\n",
        "    [q_tr],\n",
        "    maxlen=MAX_LENGTH,\n",
        "    padding='post',\n",
        "    value=1.0\n",
        ")\n",
        "q_t = torch.Tensor(q_p).int().to(DEVICE)\n",
        "\n",
        "\n",
        "enc, _ = encoder(q_t)\n",
        "dec = decoder(enc)\n",
        "\n",
        "int_infer = dec.int()\n",
        "\n",
        "tokens = [t.item() for t in int_infer[0]]\n",
        "words = voc.get_itos()\n",
        "result = ' '.join(list(filter(lambda w: '<' not in w and '>' not in w, [words[t] for t in tokens])))\n",
        "print(result)\n",
        "\n"
      ],
      "metadata": {
        "id": "s1cpwVbSKxZJ",
        "colab": {
          "base_uri": "https://localhost:8080/",
          "height": 398
        },
        "outputId": "7a3aff75-53d0-4647-b2fa-fed6abc5ac28"
      },
      "execution_count": 63,
      "outputs": [
        {
          "output_type": "error",
          "ename": "RuntimeError",
          "evalue": "ignored",
          "traceback": [
            "\u001b[0;31m---------------------------------------------------------------------------\u001b[0m",
            "\u001b[0;31mRuntimeError\u001b[0m                              Traceback (most recent call last)",
            "\u001b[0;32m<ipython-input-63-d11fb69c4eac>\u001b[0m in \u001b[0;36m<module>\u001b[0;34m()\u001b[0m\n\u001b[1;32m     12\u001b[0m \u001b[0;34m\u001b[0m\u001b[0m\n\u001b[1;32m     13\u001b[0m \u001b[0;34m\u001b[0m\u001b[0m\n\u001b[0;32m---> 14\u001b[0;31m \u001b[0menc\u001b[0m\u001b[0;34m,\u001b[0m \u001b[0m_\u001b[0m \u001b[0;34m=\u001b[0m \u001b[0mencoder\u001b[0m\u001b[0;34m(\u001b[0m\u001b[0mq_t\u001b[0m\u001b[0;34m)\u001b[0m\u001b[0;34m\u001b[0m\u001b[0;34m\u001b[0m\u001b[0m\n\u001b[0m\u001b[1;32m     15\u001b[0m \u001b[0mdec\u001b[0m \u001b[0;34m=\u001b[0m \u001b[0mdecoder\u001b[0m\u001b[0;34m(\u001b[0m\u001b[0menc\u001b[0m\u001b[0;34m)\u001b[0m\u001b[0;34m\u001b[0m\u001b[0;34m\u001b[0m\u001b[0m\n\u001b[1;32m     16\u001b[0m \u001b[0;34m\u001b[0m\u001b[0m\n",
            "\u001b[0;32m/usr/local/lib/python3.7/dist-packages/torch/nn/modules/module.py\u001b[0m in \u001b[0;36m_call_impl\u001b[0;34m(self, *input, **kwargs)\u001b[0m\n\u001b[1;32m   1108\u001b[0m         if not (self._backward_hooks or self._forward_hooks or self._forward_pre_hooks or _global_backward_hooks\n\u001b[1;32m   1109\u001b[0m                 or _global_forward_hooks or _global_forward_pre_hooks):\n\u001b[0;32m-> 1110\u001b[0;31m             \u001b[0;32mreturn\u001b[0m \u001b[0mforward_call\u001b[0m\u001b[0;34m(\u001b[0m\u001b[0;34m*\u001b[0m\u001b[0minput\u001b[0m\u001b[0;34m,\u001b[0m \u001b[0;34m**\u001b[0m\u001b[0mkwargs\u001b[0m\u001b[0;34m)\u001b[0m\u001b[0;34m\u001b[0m\u001b[0;34m\u001b[0m\u001b[0m\n\u001b[0m\u001b[1;32m   1111\u001b[0m         \u001b[0;31m# Do not call functions when jit is used\u001b[0m\u001b[0;34m\u001b[0m\u001b[0;34m\u001b[0m\u001b[0;34m\u001b[0m\u001b[0m\n\u001b[1;32m   1112\u001b[0m         \u001b[0mfull_backward_hooks\u001b[0m\u001b[0;34m,\u001b[0m \u001b[0mnon_full_backward_hooks\u001b[0m \u001b[0;34m=\u001b[0m \u001b[0;34m[\u001b[0m\u001b[0;34m]\u001b[0m\u001b[0;34m,\u001b[0m \u001b[0;34m[\u001b[0m\u001b[0;34m]\u001b[0m\u001b[0;34m\u001b[0m\u001b[0;34m\u001b[0m\u001b[0m\n",
            "\u001b[0;32m<ipython-input-39-d60fbe62babe>\u001b[0m in \u001b[0;36mforward\u001b[0;34m(self, x)\u001b[0m\n\u001b[1;32m      5\u001b[0m \u001b[0;34m\u001b[0m\u001b[0m\n\u001b[1;32m      6\u001b[0m   \u001b[0;32mdef\u001b[0m \u001b[0mforward\u001b[0m\u001b[0;34m(\u001b[0m\u001b[0mself\u001b[0m\u001b[0;34m,\u001b[0m \u001b[0mx\u001b[0m\u001b[0;34m)\u001b[0m\u001b[0;34m:\u001b[0m\u001b[0;34m\u001b[0m\u001b[0;34m\u001b[0m\u001b[0m\n\u001b[0;32m----> 7\u001b[0;31m     \u001b[0mx\u001b[0m\u001b[0;34m,\u001b[0m \u001b[0;34m(\u001b[0m\u001b[0mh\u001b[0m\u001b[0;34m,\u001b[0m \u001b[0mc\u001b[0m\u001b[0;34m)\u001b[0m \u001b[0;34m=\u001b[0m \u001b[0mself\u001b[0m\u001b[0;34m.\u001b[0m\u001b[0mlstm\u001b[0m\u001b[0;34m(\u001b[0m\u001b[0mx\u001b[0m\u001b[0;34m)\u001b[0m\u001b[0;34m\u001b[0m\u001b[0;34m\u001b[0m\u001b[0m\n\u001b[0m\u001b[1;32m      8\u001b[0m     \u001b[0;32mreturn\u001b[0m \u001b[0mx\u001b[0m\u001b[0;34m,\u001b[0m \u001b[0;34m(\u001b[0m\u001b[0mh\u001b[0m\u001b[0;34m,\u001b[0m \u001b[0mc\u001b[0m\u001b[0;34m)\u001b[0m\u001b[0;34m\u001b[0m\u001b[0;34m\u001b[0m\u001b[0m\n",
            "\u001b[0;32m/usr/local/lib/python3.7/dist-packages/torch/nn/modules/module.py\u001b[0m in \u001b[0;36m_call_impl\u001b[0;34m(self, *input, **kwargs)\u001b[0m\n\u001b[1;32m   1108\u001b[0m         if not (self._backward_hooks or self._forward_hooks or self._forward_pre_hooks or _global_backward_hooks\n\u001b[1;32m   1109\u001b[0m                 or _global_forward_hooks or _global_forward_pre_hooks):\n\u001b[0;32m-> 1110\u001b[0;31m             \u001b[0;32mreturn\u001b[0m \u001b[0mforward_call\u001b[0m\u001b[0;34m(\u001b[0m\u001b[0;34m*\u001b[0m\u001b[0minput\u001b[0m\u001b[0;34m,\u001b[0m \u001b[0;34m**\u001b[0m\u001b[0mkwargs\u001b[0m\u001b[0;34m)\u001b[0m\u001b[0;34m\u001b[0m\u001b[0;34m\u001b[0m\u001b[0m\n\u001b[0m\u001b[1;32m   1111\u001b[0m         \u001b[0;31m# Do not call functions when jit is used\u001b[0m\u001b[0;34m\u001b[0m\u001b[0;34m\u001b[0m\u001b[0;34m\u001b[0m\u001b[0m\n\u001b[1;32m   1112\u001b[0m         \u001b[0mfull_backward_hooks\u001b[0m\u001b[0;34m,\u001b[0m \u001b[0mnon_full_backward_hooks\u001b[0m \u001b[0;34m=\u001b[0m \u001b[0;34m[\u001b[0m\u001b[0;34m]\u001b[0m\u001b[0;34m,\u001b[0m \u001b[0;34m[\u001b[0m\u001b[0;34m]\u001b[0m\u001b[0;34m\u001b[0m\u001b[0;34m\u001b[0m\u001b[0m\n",
            "\u001b[0;32m/usr/local/lib/python3.7/dist-packages/torch/nn/modules/rnn.py\u001b[0m in \u001b[0;36mforward\u001b[0;34m(self, input, hx)\u001b[0m\n\u001b[1;32m    760\u001b[0m         \u001b[0;32mif\u001b[0m \u001b[0mbatch_sizes\u001b[0m \u001b[0;32mis\u001b[0m \u001b[0;32mNone\u001b[0m\u001b[0;34m:\u001b[0m\u001b[0;34m\u001b[0m\u001b[0;34m\u001b[0m\u001b[0m\n\u001b[1;32m    761\u001b[0m             result = _VF.lstm(input, hx, self._flat_weights, self.bias, self.num_layers,\n\u001b[0;32m--> 762\u001b[0;31m                               self.dropout, self.training, self.bidirectional, self.batch_first)\n\u001b[0m\u001b[1;32m    763\u001b[0m         \u001b[0;32melse\u001b[0m\u001b[0;34m:\u001b[0m\u001b[0;34m\u001b[0m\u001b[0;34m\u001b[0m\u001b[0m\n\u001b[1;32m    764\u001b[0m             result = _VF.lstm(input, batch_sizes, hx, self._flat_weights, self.bias,\n",
            "\u001b[0;31mRuntimeError\u001b[0m: \"addmm_cuda\" not implemented for 'Int'"
          ]
        }
      ]
    },
    {
      "cell_type": "code",
      "source": [
        ""
      ],
      "metadata": {
        "id": "Up2jkK36zGAD"
      },
      "execution_count": 45,
      "outputs": []
    },
    {
      "cell_type": "code",
      "source": [
        ""
      ],
      "metadata": {
        "id": "xrr5i0IpzGCn"
      },
      "execution_count": 45,
      "outputs": []
    },
    {
      "cell_type": "code",
      "source": [
        ""
      ],
      "metadata": {
        "id": "LGWG3mbzzGEx"
      },
      "execution_count": 45,
      "outputs": []
    },
    {
      "cell_type": "code",
      "source": [
        ""
      ],
      "metadata": {
        "id": "Mum903TXzGHY"
      },
      "execution_count": 45,
      "outputs": []
    },
    {
      "cell_type": "code",
      "source": [
        ""
      ],
      "metadata": {
        "id": "LfUhnHL_Kxcj"
      },
      "execution_count": 45,
      "outputs": []
    },
    {
      "cell_type": "code",
      "source": [
        ""
      ],
      "metadata": {
        "id": "ddwvBDsnKxf0"
      },
      "execution_count": 45,
      "outputs": []
    },
    {
      "cell_type": "code",
      "source": [
        "!tail -n 10 data/movie_conversations.txt "
      ],
      "metadata": {
        "id": "4kVqD08vKxjr",
        "colab": {
          "base_uri": "https://localhost:8080/"
        },
        "outputId": "c54509d0-c48e-4f55-b5eb-74b62f0ddf66"
      },
      "execution_count": 46,
      "outputs": [
        {
          "output_type": "stream",
          "name": "stdout",
          "text": [
            "u9027 +++$+++ u9029 +++$+++ m616 +++$+++ ['L666460', 'L666461']\n",
            "u9027 +++$+++ u9029 +++$+++ m616 +++$+++ ['L666485', 'L666486']\n",
            "u9027 +++$+++ u9029 +++$+++ m616 +++$+++ ['L666546', 'L666547']\n",
            "u9028 +++$+++ u9033 +++$+++ m616 +++$+++ ['L666497', 'L666498', 'L666499', 'L666500', 'L666501', 'L666502']\n",
            "u9028 +++$+++ u9031 +++$+++ m616 +++$+++ ['L666262', 'L666263', 'L666264']\n",
            "u9028 +++$+++ u9031 +++$+++ m616 +++$+++ ['L666324', 'L666325', 'L666326', 'L666327']\n",
            "u9028 +++$+++ u9031 +++$+++ m616 +++$+++ ['L666575', 'L666576']\n",
            "u9030 +++$+++ u9034 +++$+++ m616 +++$+++ ['L666256', 'L666257']\n",
            "u9030 +++$+++ u9034 +++$+++ m616 +++$+++ ['L666369', 'L666370', 'L666371', 'L666372']\n",
            "u9030 +++$+++ u9034 +++$+++ m616 +++$+++ ['L666520', 'L666521', 'L666522']\n"
          ]
        }
      ]
    },
    {
      "cell_type": "code",
      "source": [
        "!ls data"
      ],
      "metadata": {
        "id": "zKWhBqLmKxoL",
        "colab": {
          "base_uri": "https://localhost:8080/"
        },
        "outputId": "b1a4cbb4-7205-4a07-d618-404bc9a2115f"
      },
      "execution_count": 47,
      "outputs": [
        {
          "output_type": "stream",
          "name": "stdout",
          "text": [
            " chameleons.pdf\t\t\t movie_lines.txt\n",
            "'cornell movie-dialogs corpus'\t movie_titles_metadata.txt\n",
            " movie_characters_metadata.txt\t raw_script_urls.txt\n",
            " movie_conversations.txt\t README.txt\n"
          ]
        }
      ]
    },
    {
      "cell_type": "code",
      "source": [
        "!cat data/README.txt"
      ],
      "metadata": {
        "id": "mm4in0NdubQS",
        "colab": {
          "base_uri": "https://localhost:8080/"
        },
        "outputId": "a74a68dd-b691-4716-ed11-3135205f2a17"
      },
      "execution_count": 48,
      "outputs": [
        {
          "output_type": "stream",
          "name": "stdout",
          "text": [
            "Cornell Movie-Dialogs Corpus\n",
            "\n",
            "Distributed together with:\n",
            "\n",
            "\"Chameleons in imagined conversations: A new approach to understanding coordination of linguistic style in dialogs\"\n",
            "Cristian Danescu-Niculescu-Mizil and Lillian Lee\n",
            "Proceedings of the Workshop on Cognitive Modeling and Computational Linguistics, ACL 2011.\r\n",
            "\n",
            "(this paper is included in this zip file)\n",
            "\n",
            "NOTE: If you have results to report on these corpora, please send email to cristian@cs.cornell.edu or llee@cs.cornell.edu so we can add you to our list of people using this data.  Thanks!\n",
            "\n",
            "\n",
            "Contents of this README:\n",
            "\n",
            "\tA) Brief description\n",
            "\tB) Files description\n",
            "\tC) Details on the collection procedure\n",
            "\tD) Contact\n",
            "\n",
            "\n",
            "A) Brief description:\n",
            "\n",
            "This corpus contains a metadata-rich collection of fictional conversations extracted from raw movie scripts:\n",
            "\n",
            "- 220,579 conversational exchanges between 10,292 pairs of movie characters\n",
            "- involves 9,035 characters from 617 movies\n",
            "- in total 304,713 utterances\n",
            "- movie metadata included:\n",
            "\t- genres\n",
            "\t- release year\n",
            "\t- IMDB rating\n",
            "\t- number of IMDB votes\n",
            "\t- IMDB rating\n",
            "- character metadata included:\n",
            "\t- gender (for 3,774 characters)\n",
            "\t- position on movie credits (3,321 characters)\n",
            "\n",
            "\n",
            "B) Files description:\n",
            "\n",
            "In all files the field separator is \" +++$+++ \"\n",
            "\n",
            "- movie_titles_metadata.txt\n",
            "\t- contains information about each movie title\n",
            "\t- fields: \n",
            "\t\t- movieID, \n",
            "\t\t- movie title,\n",
            "\t\t- movie year, \n",
            "\t   \t- IMDB rating,\n",
            "\t\t- no. IMDB votes,\n",
            " \t\t- genres in the format ['genre1','genre2',�,'genreN']\n",
            "\n",
            "- movie_characters_metadata.txt\n",
            "\t- contains information about each movie character\n",
            "\t- fields:\n",
            "\t\t- characterID\n",
            "\t\t- character name\n",
            "\t\t- movieID\n",
            "\t\t- movie title\n",
            "\t\t- gender (\"?\" for unlabeled cases)\n",
            "\t\t- position in credits (\"?\" for unlabeled cases) \n",
            "\n",
            "- movie_lines.txt\n",
            "\t- contains the actual text of each utterance\n",
            "\t- fields:\n",
            "\t\t- lineID\n",
            "\t\t- characterID (who uttered this phrase)\n",
            "\t\t- movieID\n",
            "\t\t- character name\n",
            "\t\t- text of the utterance\n",
            "\n",
            "- movie_conversations.txt\n",
            "\t- the structure of the conversations\n",
            "\t- fields\n",
            "\t\t- characterID of the first character involved in the conversation\n",
            "\t\t- characterID of the second character involved in the conversation\n",
            "\t\t- movieID of the movie in which the conversation occurred\n",
            "\t\t- list of the utterances that make the conversation, in chronological \n",
            "\t\t\torder: ['lineID1','lineID2',�,'lineIDN']\n",
            "\t\t\thas to be matched with movie_lines.txt to reconstruct the actual content\n",
            "\n",
            "- raw_script_urls.txt\n",
            "\t- the urls from which the raw sources were retrieved\n",
            "\n",
            "C) Details on the collection procedure:\n",
            "\n",
            "We started from raw publicly available movie scripts (sources acknowledged in \n",
            "raw_script_urls.txt).  In order to collect the metadata necessary for this study \n",
            "and to distinguish between two script versions of the same movie, we automatically\n",
            " matched each script with an entry in movie database provided by IMDB (The Internet\n",
            " Movie Database; data interfaces available at http://www.imdb.com/interfaces). Some\n",
            " amount of manual correction was also involved. When  more than one movie with the same\n",
            " title was found in IMBD, the match was made with the most popular title \n",
            "(the one that received most IMDB votes)  \n",
            "\n",
            "After discarding all movies that could not be matched or that had less than 5 IMDB \n",
            "votes, we were left with 617 unique titles with metadata including genre, release \n",
            "year, IMDB rating and no. of IMDB votes and cast distribution.  We then identified \n",
            "the pairs of characters that interact and separated their conversations automatically \n",
            "using simple data processing heuristics. After discarding all pairs that exchanged \n",
            "less than 5 conversational exchanges there were 10,292 left, exchanging 220,579 \n",
            "conversational exchanges (304,713 utterances).  After automatically matching the names \n",
            "of the 9,035 involved characters to the list of cast distribution, we used the \n",
            "gender of each interpreting actor to infer the fictional gender of a subset of \n",
            "3,321 movie characters (we raised the number of gendered 3,774 characters through\n",
            " manual annotation). Similarly, we collected the end credit position of a subset \n",
            "of 3,321 characters as a proxy for their status.\n",
            "\n",
            "\n",
            "D) Contact:\n",
            "\n",
            "Please email any questions to: cristian@cs.cornell.edu (Cristian Danescu-Niculescu-Mizil)"
          ]
        }
      ]
    },
    {
      "cell_type": "code",
      "source": [
        "# # trash\n",
        "\n",
        "\n",
        "\n",
        "\n",
        "# def preprocess(x):\n",
        "#   x_no_new = x.replace('\\n', '')\n",
        "#   text = x_no_new.split(FIELD_SPLITTER).pop()\n",
        "#   embedding = g_vectors.get_vecs_by_tokens(tokenizer(text), lower_case_backup=True)\n",
        "#   return embedding\n",
        "\n",
        "# tokenizer = get_tokenizer('basic_english')\n",
        "# g_vectors = GloVe(name='840B')\n",
        "# g_vocab = vocab(g_vectors.stoi)\n",
        "\n",
        "\n",
        "# train_iter = tt.data.BucketIterator(\n",
        "#   dataset=train_obj,\n",
        "#   batch_size = 2,\n",
        "#   sort_key=lambda x: len(x.review),\n",
        "#   shuffle=True,\n",
        "#   device=DEVICE\n",
        "# )\n",
        "\n",
        "# trainloader = torch.utils.data.DataLoader(\n",
        "# \t,\n",
        "# \tbatch_size=BATCH,\n",
        "# \tnum_workers=12,\n",
        "# \tshuffle=True\n",
        "# )"
      ],
      "metadata": {
        "id": "UBDoHXDJsqu4"
      },
      "execution_count": 49,
      "outputs": []
    },
    {
      "cell_type": "code",
      "source": [
        "\n",
        "# embeddings = global_vectors.get_vecs_by_tokens(tokenizer(\"Hello, How are you?\"),\n",
        "#                                                lower_case_backup=True)\n",
        "# embeddings\n",
        "# \n",
        "# \n",
        "# \n",
        "# def batch(iterable, size):\n",
        "#     from itertools import chain, islice\n",
        "#     iterator = iter(iterable)\n",
        "#     for first in iterator:\n",
        "#         yield list(chain([first], islice(iterator, size - 1)))"
      ],
      "metadata": {
        "id": "DRxfxpjQsrTJ"
      },
      "execution_count": 50,
      "outputs": []
    }
  ]
}