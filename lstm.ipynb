{
  "nbformat": 4,
  "nbformat_minor": 0,
  "metadata": {
    "colab": {
      "name": "lstm.ipynb",
      "provenance": [],
      "collapsed_sections": [],
      "authorship_tag": "ABX9TyOwEY5PxHakyzwPkszBzAtu"
    },
    "kernelspec": {
      "name": "python3",
      "display_name": "Python 3"
    },
    "language_info": {
      "name": "python"
    },
    "gpuClass": "standard"
  },
  "cells": [
    {
      "cell_type": "code",
      "execution_count": null,
      "metadata": {
        "colab": {
          "base_uri": "https://localhost:8080/"
        },
        "id": "wHn6K0u3-2lF",
        "outputId": "f18a937d-c3cd-4c7f-8ed1-e01624b7267a"
      },
      "outputs": [
        {
          "output_type": "stream",
          "name": "stdout",
          "text": [
            "Populating the interactive namespace from numpy and matplotlib\n"
          ]
        }
      ],
      "source": [
        "%pylab inline\n",
        "\n",
        "import matplotlib.pyplot as plt\n",
        "import requests\n",
        "import zipfile\n",
        "import re\n",
        "from collections import Counter\n",
        "\n",
        "import torch\n",
        "import torch.nn as nn\n",
        "import torch.optim as optim\n",
        "from torch.utils.data import Dataset, DataLoader\n",
        "from torchtext.data.utils import get_tokenizer\n",
        "from torchtext.vocab import build_vocab_from_iterator, GloVe, vocab\n",
        "\n",
        "\n",
        "from functools import partial,reduce\n",
        "from tqdm import tqdm, trange\n",
        "tqdm = partial(tqdm, position=0, leave=True)\n",
        "trange = partial(trange, position=0, leave=True)\n",
        "\n",
        "import numpy as np\n",
        "\n",
        "\n",
        "DEVICE = 'cuda:0'"
      ]
    },
    {
      "cell_type": "code",
      "source": [
        "url = 'http://www.cs.cornell.edu/~cristian/data/cornell_movie_dialogs_corpus.zip'\n",
        "\n",
        "r = requests.get(url)\n",
        "\n",
        "ul = url.split('/')\n",
        "name = ul[len(ul) - 1]\n",
        "\n",
        "with open(name, 'wb') as file:\n",
        "  file.write(r.content)\n",
        "\n",
        "with zipfile.ZipFile(name, \"r\") as zip_ref:\n",
        "  zip_ref.extractall(\"./\")\n",
        "\n",
        "!mv 'cornell movie-dialogs corpus' 'data'\n",
        "!ls 'data'"
      ],
      "metadata": {
        "colab": {
          "base_uri": "https://localhost:8080/"
        },
        "id": "SN_cyVT6eQQM",
        "outputId": "11731afd-ef1a-4ef9-b367-d863e1f9e4db"
      },
      "execution_count": null,
      "outputs": [
        {
          "output_type": "stream",
          "name": "stdout",
          "text": [
            "mv: cannot move 'cornell movie-dialogs corpus' to 'data/cornell movie-dialogs corpus': Directory not empty\n",
            " chameleons.pdf\t\t\t movie_lines.txt\n",
            "'cornell movie-dialogs corpus'\t movie_titles_metadata.txt\n",
            " movie_characters_metadata.txt\t raw_script_urls.txt\n",
            " movie_conversations.txt\t README.txt\n"
          ]
        }
      ]
    },
    {
      "cell_type": "code",
      "source": [
        ""
      ],
      "metadata": {
        "id": "V_jfwwVQKw-o"
      },
      "execution_count": null,
      "outputs": []
    },
    {
      "cell_type": "code",
      "source": [
        "FIELD_SPLITTER = '+++$+++'\n",
        "\n",
        "MAX_SAMPLES = 50000\n",
        "MAX_LENGTH = 40\n",
        "\n",
        "UNK_TOKEN = '<unk>'\n",
        "PAD_TOKEN = '<PAD>'\n",
        "BOS_TOKEN = '<BOS>'\n",
        "EOS_TOKEN = '<EOS>'\n",
        "\n",
        "UNK_TOKEN_IND = 0\n",
        "PAD_TOKEN_IND = 1\n",
        "BOS_TOKEN_IND = 2\n",
        "EOS_TOKEN_IND = 3\n",
        "\n",
        "BATCH = 1"
      ],
      "metadata": {
        "id": "Kx8U5FhayR-T"
      },
      "execution_count": null,
      "outputs": []
    },
    {
      "cell_type": "code",
      "source": [
        ""
      ],
      "metadata": {
        "id": "PW9kkcKGvkht"
      },
      "execution_count": null,
      "outputs": []
    },
    {
      "cell_type": "code",
      "source": [
        "def preprocess_sentence(sentence):\n",
        "    sentence = sentence.lower().strip()\n",
        "    sentence = re.sub(r\"([?.!,])\", r\" \\1 \", sentence)\n",
        "    sentence = re.sub(r'[\" \"]+', \" \", sentence)\n",
        "    sentence = re.sub(r\"[^a-zA-Z?.!,]+\", \" \", sentence)\n",
        "    sentence = sentence.strip()\n",
        "    return sentence"
      ],
      "metadata": {
        "id": "-FmVEHllv777"
      },
      "execution_count": null,
      "outputs": []
    },
    {
      "cell_type": "code",
      "source": [
        "text_transform = lambda x, voc, tokenizer: [voc['<BOS>']] + [voc[token] for token in tokenizer(x)] + [voc['<EOS>']]"
      ],
      "metadata": {
        "id": "5xjiwfyZwZbt"
      },
      "execution_count": null,
      "outputs": []
    },
    {
      "cell_type": "code",
      "source": [
        "# this is terrible as fuck because torchtext is terrible as fuck\n",
        "def load_conversations(path_to_movie_lines, path_to_movie_conversations):\n",
        "    id2line = {}\n",
        "    with open(path_to_movie_lines, errors='ignore') as file:\n",
        "        lines = file.readlines()\n",
        "        for line in lines:\n",
        "            parts = line.replace('\\n', '').split(' +++$+++ ')\n",
        "            id2line[parts[0]] = parts[4]\n",
        "\n",
        "    inputs, outputs = [], []\n",
        "    with open(path_to_movie_conversations, 'r') as file:\n",
        "        lines = file.readlines()\n",
        "        for line in lines:\n",
        "            parts = line.replace('\\n', '').split(' +++$+++ ')\n",
        "            conversation = [line[1:-1] for line in parts[3][1:-1].split(', ')]\n",
        "            for i in range(len(conversation) - 1):\n",
        "                inputs.append(preprocess_sentence(id2line[conversation[i]]))\n",
        "                outputs.append(preprocess_sentence(id2line[conversation[i + 1]]))\n",
        "                if len(inputs) >= MAX_SAMPLES:\n",
        "                    return inputs, outputs\n",
        "    return inputs, outputs\n"
      ],
      "metadata": {
        "id": "-sijVHLArNQJ"
      },
      "execution_count": null,
      "outputs": []
    },
    {
      "cell_type": "code",
      "source": [
        "def get_dataloader(path_to_movie_lines,\n",
        "                   path_to_movie_conversations):\n",
        "    questions, answers = load_conversations(path_to_movie_lines, path_to_movie_conversations)\n",
        "\n",
        "    tokenizer = get_tokenizer('basic_english')\n",
        "\n",
        "    counter = Counter()\n",
        "    for sent in questions + answers:\n",
        "        counter.update(tokenizer(sent))\n",
        "\n",
        "    voc = vocab(counter)\n",
        "    voc.insert_token(token=UNK_TOKEN, index=UNK_TOKEN_IND)\n",
        "    voc.set_default_index(index=UNK_TOKEN_IND)\n",
        "    voc.insert_token(token=PAD_TOKEN, index=PAD_TOKEN_IND)\n",
        "    voc.insert_token(token=BOS_TOKEN, index=BOS_TOKEN_IND)\n",
        "    voc.insert_token(token=EOS_TOKEN, index=EOS_TOKEN_IND)\n",
        "\n",
        "    q_tokenized = [text_transform(t, voc, tokenizer) for t in questions]\n",
        "    a_tokenized = [text_transform(t, voc, tokenizer) for t in answers]\n",
        "\n",
        "    import tensorflow as tf # todo\n",
        "    q_padded = tf.keras.preprocessing.sequence.pad_sequences(\n",
        "        q_tokenized, maxlen=MAX_LENGTH, padding='post', value=1.0)\n",
        "\n",
        "    a_padded = tf.keras.preprocessing.sequence.pad_sequences(\n",
        "        a_tokenized, maxlen=MAX_LENGTH, padding='post', value=1.0)\n",
        "\n",
        "    print(\"Vocab len\", len(voc))\n",
        "\n",
        "    dataloader = DataLoader(\n",
        "        list(\n",
        "            zip(\n",
        "                  q_padded.astype(np.float32),\n",
        "                  a_padded.astype(np.float32),\n",
        "                )\n",
        "            ),\n",
        "            batch_size=BATCH,\n",
        "            shuffle=False,\n",
        "    )\n",
        "\n",
        "    print(voc)\n",
        "    torch.save(voc, 'vocab')\n",
        "\n",
        "    return dataloader, text_transform, voc\n"
      ],
      "metadata": {
        "id": "dblp_TVLqvav"
      },
      "execution_count": null,
      "outputs": []
    },
    {
      "cell_type": "code",
      "source": [
        ""
      ],
      "metadata": {
        "id": "e3T8xN1yxmyc"
      },
      "execution_count": null,
      "outputs": []
    },
    {
      "cell_type": "code",
      "source": [
        "lines_path = 'data/movie_lines.txt'\n",
        "conversations_path = 'data/movie_conversations.txt'    \n",
        "\n",
        "dataloader, text_transform, voc = get_dataloader(lines_path,\n",
        "                                                 conversations_path)"
      ],
      "metadata": {
        "colab": {
          "base_uri": "https://localhost:8080/"
        },
        "id": "e42tdLcayovn",
        "outputId": "283da4ef-369b-48a6-da5e-4039608737b0"
      },
      "execution_count": null,
      "outputs": [
        {
          "output_type": "stream",
          "name": "stdout",
          "text": [
            "Vocab len 23068\n",
            "Vocab()\n"
          ]
        }
      ]
    },
    {
      "cell_type": "code",
      "source": [
        "test_sample = None\n",
        "\n",
        "for i,x in enumerate(dataloader):\n",
        "  if i > 1: break\n",
        "  print(x[0].shape)\n",
        "  test_sample = x[0]"
      ],
      "metadata": {
        "colab": {
          "base_uri": "https://localhost:8080/"
        },
        "id": "WMyWFI7N3VVf",
        "outputId": "29dbdca7-457d-4de5-c6d2-f8e2dc4bfa69"
      },
      "execution_count": null,
      "outputs": [
        {
          "output_type": "stream",
          "name": "stdout",
          "text": [
            "torch.Size([1, 40])\n",
            "torch.Size([1, 40])\n"
          ]
        }
      ]
    },
    {
      "cell_type": "code",
      "source": [
        ""
      ],
      "metadata": {
        "id": "OG_PUCipfDAT"
      },
      "execution_count": null,
      "outputs": []
    },
    {
      "cell_type": "code",
      "source": [
        "class LSTM(nn.Module):\n",
        "  def __init__(self, isize, osize):\n",
        "    super(LSTM, self).__init__()\n",
        "\n",
        "    self.isize = isize\n",
        "    self.osize = osize\n",
        "\n",
        "    self.forget_cell = nn.Linear(isize, osize)\n",
        "\n",
        "  def forget_gate(self, x_t, h_tm1):\n",
        "    wx = self.forget_cell(x_t)\n",
        "    # wh = self.forget_cell(h_tm1)\n",
        "    wh = torch.bmm(self.forget_cell.weight, h_tm1) # questionable\n",
        "    out = wx + wh\n",
        "    return out\n",
        "  \n",
        "  def forward(self, x, h0=None, c0=None):\n",
        "    if not h0:\n",
        "      h0 = torch.zeros(x.shape[0], self.isize, self.osize)\n",
        "    if not c0:\n",
        "      c0 = torch.zeros(x.shape[0], self.isize, self.osize)\n",
        "\n",
        "    x = self.forget_gate(x, h0)\n",
        "    return x, (h0, c0)\n"
      ],
      "metadata": {
        "id": "Iajk3iU8hKlB"
      },
      "execution_count": 116,
      "outputs": []
    },
    {
      "cell_type": "code",
      "source": [
        "my_lstm = LSTM(40, 80)\n",
        "\n",
        "res, _ = my_lstm(test_sample)\n",
        "\n",
        "print(res.shape)"
      ],
      "metadata": {
        "colab": {
          "base_uri": "https://localhost:8080/",
          "height": 381
        },
        "id": "Ic6e2QJcHlqj",
        "outputId": "6bb31d05-b270-4182-b49d-d3bd8a681431"
      },
      "execution_count": 117,
      "outputs": [
        {
          "output_type": "error",
          "ename": "RuntimeError",
          "evalue": "ignored",
          "traceback": [
            "\u001b[0;31m---------------------------------------------------------------------------\u001b[0m",
            "\u001b[0;31mRuntimeError\u001b[0m                              Traceback (most recent call last)",
            "\u001b[0;32m<ipython-input-117-e29e5ccd949a>\u001b[0m in \u001b[0;36m<module>\u001b[0;34m()\u001b[0m\n\u001b[1;32m      1\u001b[0m \u001b[0mmy_lstm\u001b[0m \u001b[0;34m=\u001b[0m \u001b[0mLSTM\u001b[0m\u001b[0;34m(\u001b[0m\u001b[0;36m40\u001b[0m\u001b[0;34m,\u001b[0m \u001b[0;36m80\u001b[0m\u001b[0;34m)\u001b[0m\u001b[0;34m\u001b[0m\u001b[0;34m\u001b[0m\u001b[0m\n\u001b[1;32m      2\u001b[0m \u001b[0;34m\u001b[0m\u001b[0m\n\u001b[0;32m----> 3\u001b[0;31m \u001b[0mres\u001b[0m\u001b[0;34m,\u001b[0m \u001b[0m_\u001b[0m \u001b[0;34m=\u001b[0m \u001b[0mmy_lstm\u001b[0m\u001b[0;34m(\u001b[0m\u001b[0mtest_sample\u001b[0m\u001b[0;34m)\u001b[0m\u001b[0;34m\u001b[0m\u001b[0;34m\u001b[0m\u001b[0m\n\u001b[0m\u001b[1;32m      4\u001b[0m \u001b[0;34m\u001b[0m\u001b[0m\n\u001b[1;32m      5\u001b[0m \u001b[0mprint\u001b[0m\u001b[0;34m(\u001b[0m\u001b[0mres\u001b[0m\u001b[0;34m.\u001b[0m\u001b[0mshape\u001b[0m\u001b[0;34m)\u001b[0m\u001b[0;34m\u001b[0m\u001b[0;34m\u001b[0m\u001b[0m\n",
            "\u001b[0;32m/usr/local/lib/python3.7/dist-packages/torch/nn/modules/module.py\u001b[0m in \u001b[0;36m_call_impl\u001b[0;34m(self, *input, **kwargs)\u001b[0m\n\u001b[1;32m   1108\u001b[0m         if not (self._backward_hooks or self._forward_hooks or self._forward_pre_hooks or _global_backward_hooks\n\u001b[1;32m   1109\u001b[0m                 or _global_forward_hooks or _global_forward_pre_hooks):\n\u001b[0;32m-> 1110\u001b[0;31m             \u001b[0;32mreturn\u001b[0m \u001b[0mforward_call\u001b[0m\u001b[0;34m(\u001b[0m\u001b[0;34m*\u001b[0m\u001b[0minput\u001b[0m\u001b[0;34m,\u001b[0m \u001b[0;34m**\u001b[0m\u001b[0mkwargs\u001b[0m\u001b[0;34m)\u001b[0m\u001b[0;34m\u001b[0m\u001b[0;34m\u001b[0m\u001b[0m\n\u001b[0m\u001b[1;32m   1111\u001b[0m         \u001b[0;31m# Do not call functions when jit is used\u001b[0m\u001b[0;34m\u001b[0m\u001b[0;34m\u001b[0m\u001b[0;34m\u001b[0m\u001b[0m\n\u001b[1;32m   1112\u001b[0m         \u001b[0mfull_backward_hooks\u001b[0m\u001b[0;34m,\u001b[0m \u001b[0mnon_full_backward_hooks\u001b[0m \u001b[0;34m=\u001b[0m \u001b[0;34m[\u001b[0m\u001b[0;34m]\u001b[0m\u001b[0;34m,\u001b[0m \u001b[0;34m[\u001b[0m\u001b[0;34m]\u001b[0m\u001b[0;34m\u001b[0m\u001b[0;34m\u001b[0m\u001b[0m\n",
            "\u001b[0;32m<ipython-input-116-7d94f687b535>\u001b[0m in \u001b[0;36mforward\u001b[0;34m(self, x, h0, c0)\u001b[0m\n\u001b[1;32m     21\u001b[0m       \u001b[0mc0\u001b[0m \u001b[0;34m=\u001b[0m \u001b[0mtorch\u001b[0m\u001b[0;34m.\u001b[0m\u001b[0mzeros\u001b[0m\u001b[0;34m(\u001b[0m\u001b[0mx\u001b[0m\u001b[0;34m.\u001b[0m\u001b[0mshape\u001b[0m\u001b[0;34m[\u001b[0m\u001b[0;36m0\u001b[0m\u001b[0;34m]\u001b[0m\u001b[0;34m,\u001b[0m \u001b[0mself\u001b[0m\u001b[0;34m.\u001b[0m\u001b[0misize\u001b[0m\u001b[0;34m,\u001b[0m \u001b[0mself\u001b[0m\u001b[0;34m.\u001b[0m\u001b[0mosize\u001b[0m\u001b[0;34m)\u001b[0m\u001b[0;34m\u001b[0m\u001b[0;34m\u001b[0m\u001b[0m\n\u001b[1;32m     22\u001b[0m \u001b[0;34m\u001b[0m\u001b[0m\n\u001b[0;32m---> 23\u001b[0;31m     \u001b[0mx\u001b[0m \u001b[0;34m=\u001b[0m \u001b[0mself\u001b[0m\u001b[0;34m.\u001b[0m\u001b[0mforget_gate\u001b[0m\u001b[0;34m(\u001b[0m\u001b[0mx\u001b[0m\u001b[0;34m,\u001b[0m \u001b[0mh0\u001b[0m\u001b[0;34m)\u001b[0m\u001b[0;34m\u001b[0m\u001b[0;34m\u001b[0m\u001b[0m\n\u001b[0m\u001b[1;32m     24\u001b[0m     \u001b[0;32mreturn\u001b[0m \u001b[0mx\u001b[0m\u001b[0;34m,\u001b[0m \u001b[0;34m(\u001b[0m\u001b[0mh0\u001b[0m\u001b[0;34m,\u001b[0m \u001b[0mc0\u001b[0m\u001b[0;34m)\u001b[0m\u001b[0;34m\u001b[0m\u001b[0;34m\u001b[0m\u001b[0m\n",
            "\u001b[0;32m<ipython-input-116-7d94f687b535>\u001b[0m in \u001b[0;36mforget_gate\u001b[0;34m(self, x_t, h_tm1)\u001b[0m\n\u001b[1;32m     11\u001b[0m     \u001b[0mwx\u001b[0m \u001b[0;34m=\u001b[0m \u001b[0mself\u001b[0m\u001b[0;34m.\u001b[0m\u001b[0mforget_cell\u001b[0m\u001b[0;34m(\u001b[0m\u001b[0mx_t\u001b[0m\u001b[0;34m)\u001b[0m\u001b[0;34m\u001b[0m\u001b[0;34m\u001b[0m\u001b[0m\n\u001b[1;32m     12\u001b[0m     \u001b[0;31m# wh = self.forget_cell(h_tm1)\u001b[0m\u001b[0;34m\u001b[0m\u001b[0;34m\u001b[0m\u001b[0;34m\u001b[0m\u001b[0m\n\u001b[0;32m---> 13\u001b[0;31m     \u001b[0mwh\u001b[0m \u001b[0;34m=\u001b[0m \u001b[0mtorch\u001b[0m\u001b[0;34m.\u001b[0m\u001b[0mbmm\u001b[0m\u001b[0;34m(\u001b[0m\u001b[0mh_tm1\u001b[0m\u001b[0;34m,\u001b[0m \u001b[0mself\u001b[0m\u001b[0;34m.\u001b[0m\u001b[0mforget_cell\u001b[0m\u001b[0;34m.\u001b[0m\u001b[0mweight\u001b[0m\u001b[0;34m)\u001b[0m \u001b[0;31m# questionable\u001b[0m\u001b[0;34m\u001b[0m\u001b[0;34m\u001b[0m\u001b[0m\n\u001b[0m\u001b[1;32m     14\u001b[0m     \u001b[0mout\u001b[0m \u001b[0;34m=\u001b[0m \u001b[0mwx\u001b[0m \u001b[0;34m+\u001b[0m \u001b[0mwh\u001b[0m\u001b[0;34m\u001b[0m\u001b[0;34m\u001b[0m\u001b[0m\n\u001b[1;32m     15\u001b[0m     \u001b[0;32mreturn\u001b[0m \u001b[0mout\u001b[0m\u001b[0;34m\u001b[0m\u001b[0;34m\u001b[0m\u001b[0m\n",
            "\u001b[0;31mRuntimeError\u001b[0m: batch2 must be a 3D tensor"
          ]
        }
      ]
    },
    {
      "cell_type": "code",
      "source": [
        ""
      ],
      "metadata": {
        "id": "YImpb8ymHlsy"
      },
      "execution_count": null,
      "outputs": []
    },
    {
      "cell_type": "code",
      "source": [
        ""
      ],
      "metadata": {
        "id": "xcvxNbhgfh3S"
      },
      "execution_count": null,
      "outputs": []
    },
    {
      "cell_type": "code",
      "source": [
        "print(test_sample.shape)\n",
        "print(test_sample.dtype)"
      ],
      "metadata": {
        "colab": {
          "base_uri": "https://localhost:8080/"
        },
        "id": "t_FMbHcG3-e-",
        "outputId": "31e73578-e779-4ade-f58e-c399e3510fab"
      },
      "execution_count": null,
      "outputs": [
        {
          "output_type": "stream",
          "name": "stdout",
          "text": [
            "torch.Size([1, 40])\n",
            "torch.float32\n"
          ]
        }
      ]
    },
    {
      "cell_type": "code",
      "source": [
        "t_lstm = nn.LSTM(40, 80, batch_first=True)\n",
        "\n",
        "res, (h_s, c_s) = t_lstm(test_sample)\n",
        "\n",
        "print(res)\n",
        "print('\\n---------')\n",
        "print(h_s)\n",
        "print('\\n---------')\n",
        "print(c_s)\n",
        "print('\\n---------')"
      ],
      "metadata": {
        "id": "QfkMe8hL0oi7",
        "colab": {
          "base_uri": "https://localhost:8080/"
        },
        "outputId": "0de34531-1f77-492e-cde2-9388f0758b26"
      },
      "execution_count": 92,
      "outputs": [
        {
          "output_type": "stream",
          "name": "stdout",
          "text": [
            "tensor([[ 1.8355e-04, -7.4787e-01,  4.7529e-07, -6.5586e-09, -1.9901e-06,\n",
            "          3.0464e-04, -6.2128e-02, -3.6935e-01, -4.1232e-01,  1.0612e-02,\n",
            "         -1.6042e-08, -1.7682e-15,  1.0477e-02, -5.2509e-03, -5.9016e-05,\n",
            "          7.1852e-08,  7.5987e-01, -1.3082e-03, -1.2029e-04, -6.3735e-04,\n",
            "         -4.5338e-10,  3.4926e-01,  4.5784e-04, -1.1458e-03, -7.1221e-02,\n",
            "         -7.8594e-02, -9.8207e-05, -6.2047e-03, -3.5558e-01,  3.2264e-01,\n",
            "         -1.6236e-02, -7.4238e-05,  6.5434e-01, -7.4483e-01,  2.2936e-01,\n",
            "          7.4398e-01, -4.0374e-08,  9.0992e-03,  7.8316e-04, -2.6333e-04,\n",
            "         -7.6153e-01, -5.4519e-01,  5.1999e-01, -1.5924e-01,  1.7522e-01,\n",
            "          1.4311e-05,  5.8986e-01,  1.6562e-02, -6.0404e-02,  8.6899e-02,\n",
            "          1.1045e-03,  6.5779e-01,  7.1191e-03,  4.3064e-08,  4.7039e-06,\n",
            "          2.6200e-08,  7.5646e-01,  4.9864e-01, -3.5055e-01, -3.4745e-01,\n",
            "          7.2702e-01,  2.7896e-04,  5.5958e-01, -5.9909e-01,  7.9317e-07,\n",
            "          7.4248e-01,  4.6254e-06,  3.5786e-03, -1.0232e-02, -1.3783e-03,\n",
            "         -5.7649e-02, -7.3292e-01, -1.2606e-02,  1.4069e-04,  1.1324e-01,\n",
            "         -1.9318e-01, -5.9621e-05, -2.9795e-01, -6.2289e-07,  4.1292e-04]],\n",
            "       grad_fn=<SqueezeBackward1>)\n",
            "\n",
            "---------\n",
            "tensor([[ 1.8355e-04, -7.4787e-01,  4.7529e-07, -6.5586e-09, -1.9901e-06,\n",
            "          3.0464e-04, -6.2128e-02, -3.6935e-01, -4.1232e-01,  1.0612e-02,\n",
            "         -1.6042e-08, -1.7682e-15,  1.0477e-02, -5.2509e-03, -5.9016e-05,\n",
            "          7.1852e-08,  7.5987e-01, -1.3082e-03, -1.2029e-04, -6.3735e-04,\n",
            "         -4.5338e-10,  3.4926e-01,  4.5784e-04, -1.1458e-03, -7.1221e-02,\n",
            "         -7.8594e-02, -9.8207e-05, -6.2047e-03, -3.5558e-01,  3.2264e-01,\n",
            "         -1.6236e-02, -7.4238e-05,  6.5434e-01, -7.4483e-01,  2.2936e-01,\n",
            "          7.4398e-01, -4.0374e-08,  9.0992e-03,  7.8316e-04, -2.6333e-04,\n",
            "         -7.6153e-01, -5.4519e-01,  5.1999e-01, -1.5924e-01,  1.7522e-01,\n",
            "          1.4311e-05,  5.8986e-01,  1.6562e-02, -6.0404e-02,  8.6899e-02,\n",
            "          1.1045e-03,  6.5779e-01,  7.1191e-03,  4.3064e-08,  4.7039e-06,\n",
            "          2.6200e-08,  7.5646e-01,  4.9864e-01, -3.5055e-01, -3.4745e-01,\n",
            "          7.2702e-01,  2.7896e-04,  5.5958e-01, -5.9909e-01,  7.9317e-07,\n",
            "          7.4248e-01,  4.6254e-06,  3.5786e-03, -1.0232e-02, -1.3783e-03,\n",
            "         -5.7649e-02, -7.3292e-01, -1.2606e-02,  1.4069e-04,  1.1324e-01,\n",
            "         -1.9318e-01, -5.9621e-05, -2.9795e-01, -6.2289e-07,  4.1292e-04]],\n",
            "       grad_fn=<SqueezeBackward1>)\n",
            "\n",
            "---------\n",
            "tensor([[ 1.8355e-04, -9.6816e-01,  2.8345e-03, -3.0319e-08, -9.5378e-01,\n",
            "          9.5817e-01, -6.2250e-02, -9.9843e-01, -4.4289e-01,  1.2052e-01,\n",
            "         -1.9900e-02, -5.1263e-06,  9.7114e-01, -2.3052e-01, -5.2243e-04,\n",
            "          9.4895e-01,  9.9592e-01, -9.9170e-01, -7.7074e-01, -9.7773e-01,\n",
            "         -9.9995e-01,  4.4263e-01,  4.6086e-04, -1.1459e-03, -1.0451e-01,\n",
            "         -7.9039e-02, -3.6748e-04, -8.8227e-01, -9.9999e-01,  3.3477e-01,\n",
            "         -9.2084e-01, -9.9992e-01,  7.8286e-01, -9.6126e-01,  2.3473e-01,\n",
            "          9.6254e-01, -7.6792e-08,  9.1560e-03,  7.8323e-04, -2.6333e-04,\n",
            "         -9.9989e-01, -6.1151e-01,  9.9973e-01, -6.6485e-01,  9.9834e-01,\n",
            "          5.4247e-01,  6.7746e-01,  1.8308e-02, -1.0000e+00,  4.7805e-01,\n",
            "          1.1053e-03,  7.9025e-01,  6.8685e-01,  4.3064e-08,  7.5809e-06,\n",
            "          4.3650e-02,  9.8791e-01,  5.4756e-01, -3.7355e-01, -3.6254e-01,\n",
            "          9.4451e-01,  5.1177e-01,  6.3491e-01, -6.9272e-01,  8.1413e-01,\n",
            "          9.5809e-01,  8.7567e-01,  3.6001e-03, -1.0232e-02, -1.4537e-03,\n",
            "         -9.9988e-01, -9.9968e-01, -9.6343e-01,  1.4071e-04,  9.8491e-01,\n",
            "         -9.9263e-01, -1.2296e-04, -9.8145e-01, -6.2354e-07,  2.7970e-03]],\n",
            "       grad_fn=<SqueezeBackward1>)\n",
            "\n",
            "---------\n"
          ]
        }
      ]
    },
    {
      "cell_type": "code",
      "source": [
        ""
      ],
      "metadata": {
        "id": "Jxr4MUuSKxHR"
      },
      "execution_count": null,
      "outputs": []
    },
    {
      "cell_type": "code",
      "source": [
        ""
      ],
      "metadata": {
        "id": "B_OfGA35gbyV"
      },
      "execution_count": null,
      "outputs": []
    },
    {
      "cell_type": "code",
      "source": [
        ""
      ],
      "metadata": {
        "id": "wi7GRvfpevfS"
      },
      "execution_count": null,
      "outputs": []
    },
    {
      "cell_type": "code",
      "source": [
        ""
      ],
      "metadata": {
        "id": "QtVP3qoOKxRU"
      },
      "execution_count": null,
      "outputs": []
    },
    {
      "cell_type": "code",
      "source": [
        ""
      ],
      "metadata": {
        "id": "y4GSVA0xKxVh"
      },
      "execution_count": null,
      "outputs": []
    },
    {
      "cell_type": "code",
      "source": [
        ""
      ],
      "metadata": {
        "id": "s1cpwVbSKxZJ"
      },
      "execution_count": null,
      "outputs": []
    },
    {
      "cell_type": "code",
      "source": [
        ""
      ],
      "metadata": {
        "id": "Up2jkK36zGAD"
      },
      "execution_count": null,
      "outputs": []
    },
    {
      "cell_type": "code",
      "source": [
        ""
      ],
      "metadata": {
        "id": "xrr5i0IpzGCn"
      },
      "execution_count": null,
      "outputs": []
    },
    {
      "cell_type": "code",
      "source": [
        ""
      ],
      "metadata": {
        "id": "LGWG3mbzzGEx"
      },
      "execution_count": null,
      "outputs": []
    },
    {
      "cell_type": "code",
      "source": [
        ""
      ],
      "metadata": {
        "id": "Mum903TXzGHY"
      },
      "execution_count": null,
      "outputs": []
    },
    {
      "cell_type": "code",
      "source": [
        ""
      ],
      "metadata": {
        "id": "LfUhnHL_Kxcj"
      },
      "execution_count": null,
      "outputs": []
    },
    {
      "cell_type": "code",
      "source": [
        ""
      ],
      "metadata": {
        "id": "ddwvBDsnKxf0"
      },
      "execution_count": null,
      "outputs": []
    },
    {
      "cell_type": "code",
      "source": [
        "!cat data/movie_conversations.txt | tail -n 10"
      ],
      "metadata": {
        "id": "4kVqD08vKxjr",
        "colab": {
          "base_uri": "https://localhost:8080/"
        },
        "outputId": "6925bf51-ea80-4204-8389-47c04860f36c"
      },
      "execution_count": null,
      "outputs": [
        {
          "output_type": "stream",
          "name": "stdout",
          "text": [
            "u9027 +++$+++ u9029 +++$+++ m616 +++$+++ ['L666460', 'L666461']\n",
            "u9027 +++$+++ u9029 +++$+++ m616 +++$+++ ['L666485', 'L666486']\n",
            "u9027 +++$+++ u9029 +++$+++ m616 +++$+++ ['L666546', 'L666547']\n",
            "u9028 +++$+++ u9033 +++$+++ m616 +++$+++ ['L666497', 'L666498', 'L666499', 'L666500', 'L666501', 'L666502']\n",
            "u9028 +++$+++ u9031 +++$+++ m616 +++$+++ ['L666262', 'L666263', 'L666264']\n",
            "u9028 +++$+++ u9031 +++$+++ m616 +++$+++ ['L666324', 'L666325', 'L666326', 'L666327']\n",
            "u9028 +++$+++ u9031 +++$+++ m616 +++$+++ ['L666575', 'L666576']\n",
            "u9030 +++$+++ u9034 +++$+++ m616 +++$+++ ['L666256', 'L666257']\n",
            "u9030 +++$+++ u9034 +++$+++ m616 +++$+++ ['L666369', 'L666370', 'L666371', 'L666372']\n",
            "u9030 +++$+++ u9034 +++$+++ m616 +++$+++ ['L666520', 'L666521', 'L666522']\n"
          ]
        }
      ]
    },
    {
      "cell_type": "code",
      "source": [
        "!ls data"
      ],
      "metadata": {
        "id": "zKWhBqLmKxoL",
        "colab": {
          "base_uri": "https://localhost:8080/"
        },
        "outputId": "717fbc22-6ada-495a-e6b3-20c8dd7dfafd"
      },
      "execution_count": null,
      "outputs": [
        {
          "output_type": "stream",
          "name": "stdout",
          "text": [
            " chameleons.pdf\t\t\t movie_lines.txt\n",
            "'cornell movie-dialogs corpus'\t movie_titles_metadata.txt\n",
            " movie_characters_metadata.txt\t raw_script_urls.txt\n",
            " movie_conversations.txt\t README.txt\n"
          ]
        }
      ]
    },
    {
      "cell_type": "code",
      "source": [
        "!cat data/README.txt"
      ],
      "metadata": {
        "id": "mm4in0NdubQS",
        "colab": {
          "base_uri": "https://localhost:8080/"
        },
        "outputId": "90ea843a-98f1-49af-8bcd-39c998cf1dd2"
      },
      "execution_count": null,
      "outputs": [
        {
          "output_type": "stream",
          "name": "stdout",
          "text": [
            "Cornell Movie-Dialogs Corpus\n",
            "\n",
            "Distributed together with:\n",
            "\n",
            "\"Chameleons in imagined conversations: A new approach to understanding coordination of linguistic style in dialogs\"\n",
            "Cristian Danescu-Niculescu-Mizil and Lillian Lee\n",
            "Proceedings of the Workshop on Cognitive Modeling and Computational Linguistics, ACL 2011.\r\n",
            "\n",
            "(this paper is included in this zip file)\n",
            "\n",
            "NOTE: If you have results to report on these corpora, please send email to cristian@cs.cornell.edu or llee@cs.cornell.edu so we can add you to our list of people using this data.  Thanks!\n",
            "\n",
            "\n",
            "Contents of this README:\n",
            "\n",
            "\tA) Brief description\n",
            "\tB) Files description\n",
            "\tC) Details on the collection procedure\n",
            "\tD) Contact\n",
            "\n",
            "\n",
            "A) Brief description:\n",
            "\n",
            "This corpus contains a metadata-rich collection of fictional conversations extracted from raw movie scripts:\n",
            "\n",
            "- 220,579 conversational exchanges between 10,292 pairs of movie characters\n",
            "- involves 9,035 characters from 617 movies\n",
            "- in total 304,713 utterances\n",
            "- movie metadata included:\n",
            "\t- genres\n",
            "\t- release year\n",
            "\t- IMDB rating\n",
            "\t- number of IMDB votes\n",
            "\t- IMDB rating\n",
            "- character metadata included:\n",
            "\t- gender (for 3,774 characters)\n",
            "\t- position on movie credits (3,321 characters)\n",
            "\n",
            "\n",
            "B) Files description:\n",
            "\n",
            "In all files the field separator is \" +++$+++ \"\n",
            "\n",
            "- movie_titles_metadata.txt\n",
            "\t- contains information about each movie title\n",
            "\t- fields: \n",
            "\t\t- movieID, \n",
            "\t\t- movie title,\n",
            "\t\t- movie year, \n",
            "\t   \t- IMDB rating,\n",
            "\t\t- no. IMDB votes,\n",
            " \t\t- genres in the format ['genre1','genre2',�,'genreN']\n",
            "\n",
            "- movie_characters_metadata.txt\n",
            "\t- contains information about each movie character\n",
            "\t- fields:\n",
            "\t\t- characterID\n",
            "\t\t- character name\n",
            "\t\t- movieID\n",
            "\t\t- movie title\n",
            "\t\t- gender (\"?\" for unlabeled cases)\n",
            "\t\t- position in credits (\"?\" for unlabeled cases) \n",
            "\n",
            "- movie_lines.txt\n",
            "\t- contains the actual text of each utterance\n",
            "\t- fields:\n",
            "\t\t- lineID\n",
            "\t\t- characterID (who uttered this phrase)\n",
            "\t\t- movieID\n",
            "\t\t- character name\n",
            "\t\t- text of the utterance\n",
            "\n",
            "- movie_conversations.txt\n",
            "\t- the structure of the conversations\n",
            "\t- fields\n",
            "\t\t- characterID of the first character involved in the conversation\n",
            "\t\t- characterID of the second character involved in the conversation\n",
            "\t\t- movieID of the movie in which the conversation occurred\n",
            "\t\t- list of the utterances that make the conversation, in chronological \n",
            "\t\t\torder: ['lineID1','lineID2',�,'lineIDN']\n",
            "\t\t\thas to be matched with movie_lines.txt to reconstruct the actual content\n",
            "\n",
            "- raw_script_urls.txt\n",
            "\t- the urls from which the raw sources were retrieved\n",
            "\n",
            "C) Details on the collection procedure:\n",
            "\n",
            "We started from raw publicly available movie scripts (sources acknowledged in \n",
            "raw_script_urls.txt).  In order to collect the metadata necessary for this study \n",
            "and to distinguish between two script versions of the same movie, we automatically\n",
            " matched each script with an entry in movie database provided by IMDB (The Internet\n",
            " Movie Database; data interfaces available at http://www.imdb.com/interfaces). Some\n",
            " amount of manual correction was also involved. When  more than one movie with the same\n",
            " title was found in IMBD, the match was made with the most popular title \n",
            "(the one that received most IMDB votes)  \n",
            "\n",
            "After discarding all movies that could not be matched or that had less than 5 IMDB \n",
            "votes, we were left with 617 unique titles with metadata including genre, release \n",
            "year, IMDB rating and no. of IMDB votes and cast distribution.  We then identified \n",
            "the pairs of characters that interact and separated their conversations automatically \n",
            "using simple data processing heuristics. After discarding all pairs that exchanged \n",
            "less than 5 conversational exchanges there were 10,292 left, exchanging 220,579 \n",
            "conversational exchanges (304,713 utterances).  After automatically matching the names \n",
            "of the 9,035 involved characters to the list of cast distribution, we used the \n",
            "gender of each interpreting actor to infer the fictional gender of a subset of \n",
            "3,321 movie characters (we raised the number of gendered 3,774 characters through\n",
            " manual annotation). Similarly, we collected the end credit position of a subset \n",
            "of 3,321 characters as a proxy for their status.\n",
            "\n",
            "\n",
            "D) Contact:\n",
            "\n",
            "Please email any questions to: cristian@cs.cornell.edu (Cristian Danescu-Niculescu-Mizil)"
          ]
        }
      ]
    },
    {
      "cell_type": "code",
      "source": [
        "# # trash\n",
        "\n",
        "\n",
        "\n",
        "\n",
        "# def preprocess(x):\n",
        "#   x_no_new = x.replace('\\n', '')\n",
        "#   text = x_no_new.split(FIELD_SPLITTER).pop()\n",
        "#   embedding = g_vectors.get_vecs_by_tokens(tokenizer(text), lower_case_backup=True)\n",
        "#   return embedding\n",
        "\n",
        "# tokenizer = get_tokenizer('basic_english')\n",
        "# g_vectors = GloVe(name='840B')\n",
        "# g_vocab = vocab(g_vectors.stoi)\n",
        "\n",
        "\n",
        "# train_iter = tt.data.BucketIterator(\n",
        "#   dataset=train_obj,\n",
        "#   batch_size = 2,\n",
        "#   sort_key=lambda x: len(x.review),\n",
        "#   shuffle=True,\n",
        "#   device=DEVICE\n",
        "# )\n",
        "\n",
        "# trainloader = torch.utils.data.DataLoader(\n",
        "# \t,\n",
        "# \tbatch_size=BATCH,\n",
        "# \tnum_workers=12,\n",
        "# \tshuffle=True\n",
        "# )"
      ],
      "metadata": {
        "id": "UBDoHXDJsqu4"
      },
      "execution_count": null,
      "outputs": []
    },
    {
      "cell_type": "code",
      "source": [
        "\n",
        "# embeddings = global_vectors.get_vecs_by_tokens(tokenizer(\"Hello, How are you?\"),\n",
        "#                                                lower_case_backup=True)\n",
        "# embeddings\n",
        "# \n",
        "# \n",
        "# \n",
        "# def batch(iterable, size):\n",
        "#     from itertools import chain, islice\n",
        "#     iterator = iter(iterable)\n",
        "#     for first in iterator:\n",
        "#         yield list(chain([first], islice(iterator, size - 1)))"
      ],
      "metadata": {
        "id": "DRxfxpjQsrTJ"
      },
      "execution_count": null,
      "outputs": []
    }
  ]
}