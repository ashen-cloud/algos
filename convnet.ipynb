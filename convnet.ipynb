{
 "cells": [
  {
   "cell_type": "code",
   "execution_count": null,
   "metadata": {},
   "outputs": [],
   "source": [
    "%pylab inline\n",
    "\n",
    "import matplotlib.pyplot as plt\n",
    "\n",
    "import torch\n",
    "import torch.nn as nn\n",
    "import torch.optim as optim\n",
    "\n",
    "from torchvision import datasets\n",
    "from torchvision.transforms import ToTensor\n",
    "\n",
    "from tqdm import trange"
   ]
  },
  {
   "cell_type": "code",
   "execution_count": null,
   "metadata": {},
   "outputs": [],
   "source": [
    "import warnings\n",
    "warnings.filterwarnings('ignore')"
   ]
  },
  {
   "cell_type": "code",
   "execution_count": null,
   "metadata": {},
   "outputs": [],
   "source": [
    "train_data = datasets.MNIST(\n",
    "\troot='data',\n",
    "\ttrain=True,\n",
    "\ttransform=ToTensor(),\n",
    "\tdownload=True,\n",
    ");\n",
    "\n",
    "test_data = datasets.MNIST(\n",
    "\troot='data',\n",
    "\ttrain=False,\n",
    "\ttransform=ToTensor(),\n",
    ");"
   ]
  },
  {
   "cell_type": "code",
   "execution_count": null,
   "metadata": {},
   "outputs": [],
   "source": [
    "print(train_data[0][0].shape)\n",
    "print(train_data[0][1])"
   ]
  },
  {
   "cell_type": "code",
   "execution_count": null,
   "metadata": {},
   "outputs": [],
   "source": [
    "imshow(train_data[0][0].reshape(28, 28))"
   ]
  },
  {
   "cell_type": "code",
   "execution_count": null,
   "metadata": {},
   "outputs": [],
   "source": [
    "class ShitNet(nn.Module):\n",
    "\tdef __init__(self):\n",
    "\t\tsuper(ShitNet, self).__init__()\n",
    "\n",
    "\t\tself.convs = nn.Sequential(\n",
    "\t\t\tnn.Conv2d(1, 32, 4),\n",
    "\t\t\tnn.BatchNorm2d(32),\n",
    "\t\t\tnn.ReLU(inplace=True),\n",
    "\t\t\tnn.MaxPool2d(2),\n",
    "\n",
    "\t\t\tnn.Conv2d(32, 64, 4),\n",
    "\t\t\tnn.BatchNorm2d(64),\n",
    "\t\t\tnn.ReLU(inplace=True),\n",
    "\t\t\tnn.MaxPool2d(2),\n",
    "\t\t)\n",
    "\n",
    "\t\tself.dropout = nn.Dropout(0.15)\n",
    "\n",
    "\tdef set_classifier(self, x_shape):\n",
    "\t\tlin_size = x_shape[1] * x_shape[2] * x_shape[3]\n",
    "\t\tself.lins = nn.Sequential(\n",
    "\t\t\tnn.Linear(lin_size, 4096),\n",
    "\t\t\tnn.ReLU(inplace=True),\n",
    "\n",
    "\t\t\tnn.Linear(4096, 2064),\n",
    "\t\t\tnn.ReLU(inplace=True),\n",
    "\n",
    "\t\t\tnn.Linear(2064, 1032),\n",
    "\t\t\tnn.ReLU(inplace=True),\n",
    "\t\t)\n",
    "\n",
    "\t\tself.classifier = nn.Linear(1032, 10)\n",
    "\n",
    "\tdef forward(self, x):\n",
    "\t\tx = self.convs(x)\n",
    "\t\tx = self.dropout(x)\n",
    "\t\tself.set_classifier(x.shape)\n",
    "\t\tx = x.reshape(x.shape[0], -1)\n",
    "\t\tx = self.lins(x)\n",
    "\t\tx = self.classifier(x)\n",
    "\n",
    "\t\treturn x\n"
   ]
  },
  {
   "cell_type": "code",
   "execution_count": null,
   "metadata": {},
   "outputs": [],
   "source": [
    "model = ShitNet()\n",
    "\n",
    "optimizer = optim.Adam(model.parameters(), lr=3e-4)\n",
    "\n",
    "loss_fn = nn.CrossEntropyLoss()\n",
    "\n",
    "EPOCHS = 10\n",
    "BATCH = 4"
   ]
  },
  {
   "cell_type": "code",
   "execution_count": null,
   "metadata": {},
   "outputs": [],
   "source": [
    "\n",
    "trainloader = torch.utils.data.DataLoader(\n",
    "\ttrain_data,\n",
    "\tbatch_size=BATCH,\n",
    "\tnum_workers=12,\n",
    "\tshuffle=True\n",
    ")"
   ]
  },
  {
   "cell_type": "code",
   "execution_count": null,
   "metadata": {},
   "outputs": [],
   "source": [
    "for data in trainloader:\n",
    "\td, l = data\n",
    "\tprint(l[0])\n",
    "\tbreak"
   ]
  },
  {
   "cell_type": "code",
   "execution_count": null,
   "metadata": {},
   "outputs": [],
   "source": [
    "accuracies = []\n",
    "losses = []\n",
    "\n",
    "model.train();\n",
    "\n",
    "for epoch in trange(EPOCHS):\n",
    "\trunning_loss = 0.0\n",
    "\tfor i, data in enumerate(trainloader):\n",
    "\t\toptimizer.zero_grad()\n",
    "\n",
    "\t\timages, labels = data\n",
    "\n",
    "\t\tout = model(images)\n",
    "\n",
    "\t\tloss = loss_fn(out, labels)\n",
    "\n",
    "\t\tloss.backward()\n",
    "\n",
    "\t\toptimizer.step()\n",
    "\n",
    "\t\trunning_loss += loss.item()\n",
    "\n",
    "\t\t_, predicted = torch.max(out, 1)\n",
    "\n",
    "\t\taccuracy = (predicted == labels).float().mean()\n",
    "\n",
    "\t\taccuracies.append(accuracy.item())\n",
    "\t\tlosses.append(loss.item())\n",
    "\t\n",
    "\tprint('ep', epoch, 'loss', running_loss / len(trainloader))"
   ]
  },
  {
   "cell_type": "code",
   "execution_count": null,
   "metadata": {},
   "outputs": [],
   "source": [
    "plt.plot(range(len(accuracies)), accuracies, 'g', label='Accuracy')\n",
    "plt.plot(range(len(losses)), losses, 'b', label='Loss')\n",
    "plt.title('Accuracy and Loss')\n",
    "plt.show()"
   ]
  },
  {
   "cell_type": "code",
   "execution_count": null,
   "metadata": {},
   "outputs": [],
   "source": [
    "testloader = torch.utils.data.DataLoader(\n",
    "\ttest_data,\n",
    "\tbatch_size=1,\n",
    "\tnum_workers=12,\n",
    "\tshuffle=False,\n",
    ")"
   ]
  },
  {
   "cell_type": "code",
   "execution_count": null,
   "metadata": {},
   "outputs": [],
   "source": [
    "correct = 0\n",
    "total = 0\n",
    "\n",
    "with torch.no_grad():\n",
    "\tmodel.eval();\n",
    "\tfor i, data in enumerate(testloader):\n",
    "\t\timages, labels = data\n",
    "\t\n",
    "\t\tout = model(images)\n",
    "\t\n",
    "\t\t_, predicted = torch.max(out, 1)\n",
    "\t\n",
    "\t\ttotal += labels.shape[0]\n",
    "\t\tcorrect += (predicted == labels).sum().item()\n",
    "\n",
    "print('total', total)\n",
    "print('correct', correct)\n",
    "print('accuracy', round(correct / total, 3))"
   ]
  }
 ],
 "metadata": {
  "interpreter": {
   "hash": "aee8b7b246df8f9039afb4144a1f6fd8d2ca17a180786b69acc140d282b71a49"
  },
  "kernelspec": {
   "display_name": "Python 3.9.5 64-bit",
   "language": "python",
   "name": "python3"
  },
  "language_info": {
   "codemirror_mode": {
    "name": "ipython",
    "version": 3
   },
   "file_extension": ".py",
   "mimetype": "text/x-python",
   "name": "python",
   "nbconvert_exporter": "python",
   "pygments_lexer": "ipython3",
   "version": "3.9.5"
  },
  "orig_nbformat": 4
 },
 "nbformat": 4,
 "nbformat_minor": 2
}
