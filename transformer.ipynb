{
  "nbformat": 4,
  "nbformat_minor": 0,
  "metadata": {
    "colab": {
      "name": "transformer.ipynb",
      "provenance": [],
      "collapsed_sections": [],
      "authorship_tag": "ABX9TyN34uXYq4rmVLf3yolNNXSB"
    },
    "kernelspec": {
      "name": "python3",
      "display_name": "Python 3"
    },
    "language_info": {
      "name": "python"
    },
    "gpuClass": "standard",
    "accelerator": "GPU"
  },
  "cells": [
    {
      "cell_type": "code",
      "execution_count": 1,
      "metadata": {
        "colab": {
          "base_uri": "https://localhost:8080/"
        },
        "id": "wHn6K0u3-2lF",
        "outputId": "aa6ba552-c264-4532-846d-ca6df63e6c6d"
      },
      "outputs": [
        {
          "output_type": "stream",
          "name": "stdout",
          "text": [
            "Populating the interactive namespace from numpy and matplotlib\n"
          ]
        }
      ],
      "source": [
        "%pylab inline\n",
        "\n",
        "import matplotlib.pyplot as plt\n",
        "import requests\n",
        "import zipfile\n",
        "import re\n",
        "from collections import Counter\n",
        "\n",
        "import torch\n",
        "import torch.nn as nn\n",
        "import torch.nn.functional as f\n",
        "import torch.optim as optim\n",
        "from torch.utils.data import Dataset, DataLoader\n",
        "from torchtext.data.utils import get_tokenizer\n",
        "from torchtext.vocab import build_vocab_from_iterator, GloVe, vocab\n",
        "\n",
        "\n",
        "from functools import partial,reduce\n",
        "from tqdm import tqdm, trange\n",
        "tqdm = partial(tqdm, position=0, leave=True)\n",
        "trange = partial(trange, position=0, leave=True)\n",
        "\n",
        "import numpy as np\n",
        "\n",
        "\n",
        "DEVICE = 'cuda:0'"
      ]
    },
    {
      "cell_type": "code",
      "source": [
        "url = 'http://www.cs.cornell.edu/~cristian/data/cornell_movie_dialogs_corpus.zip'\n",
        "\n",
        "r = requests.get(url)\n",
        "\n",
        "ul = url.split('/')\n",
        "name = ul[len(ul) - 1]\n",
        "\n",
        "with open(name, 'wb') as file:\n",
        "  file.write(r.content)\n",
        "\n",
        "with zipfile.ZipFile(name, \"r\") as zip_ref:\n",
        "  zip_ref.extractall(\"./\")\n",
        "\n",
        "!mv 'cornell movie-dialogs corpus' 'data'\n",
        "!ls 'data'"
      ],
      "metadata": {
        "colab": {
          "base_uri": "https://localhost:8080/"
        },
        "id": "SN_cyVT6eQQM",
        "outputId": "579228d6-249c-4c60-b982-781b059ee545"
      },
      "execution_count": null,
      "outputs": [
        {
          "output_type": "stream",
          "name": "stdout",
          "text": [
            "mv: cannot move 'cornell movie-dialogs corpus' to 'data/cornell movie-dialogs corpus': Directory not empty\n",
            " chameleons.pdf\t\t\t movie_lines.txt\n",
            "'cornell movie-dialogs corpus'\t movie_titles_metadata.txt\n",
            " movie_characters_metadata.txt\t raw_script_urls.txt\n",
            " movie_conversations.txt\t README.txt\n"
          ]
        }
      ]
    },
    {
      "cell_type": "code",
      "source": [
        ""
      ],
      "metadata": {
        "id": "V_jfwwVQKw-o"
      },
      "execution_count": null,
      "outputs": []
    },
    {
      "cell_type": "code",
      "source": [
        "FIELD_SPLITTER = '+++$+++'\n",
        "\n",
        "MAX_SAMPLES = 50000\n",
        "MAX_LENGTH = 40\n",
        "\n",
        "UNK_TOKEN = '<unk>'\n",
        "PAD_TOKEN = '<PAD>'\n",
        "BOS_TOKEN = '<BOS>'\n",
        "EOS_TOKEN = '<EOS>'\n",
        "\n",
        "UNK_TOKEN_IND = 0\n",
        "PAD_TOKEN_IND = 1\n",
        "BOS_TOKEN_IND = 2\n",
        "EOS_TOKEN_IND = 3\n",
        "\n",
        "BATCH = 128"
      ],
      "metadata": {
        "id": "Kx8U5FhayR-T"
      },
      "execution_count": null,
      "outputs": []
    },
    {
      "cell_type": "code",
      "source": [
        ""
      ],
      "metadata": {
        "id": "PW9kkcKGvkht"
      },
      "execution_count": null,
      "outputs": []
    },
    {
      "cell_type": "code",
      "source": [
        "def preprocess_sentence(sentence):\n",
        "    sentence = sentence.lower().strip()\n",
        "    sentence = re.sub(r\"([?.!,])\", r\" \\1 \", sentence)\n",
        "    sentence = re.sub(r'[\" \"]+', \" \", sentence)\n",
        "    sentence = re.sub(r\"[^a-zA-Z?.!,]+\", \" \", sentence)\n",
        "    sentence = sentence.strip()\n",
        "    return sentence"
      ],
      "metadata": {
        "id": "-FmVEHllv777"
      },
      "execution_count": null,
      "outputs": []
    },
    {
      "cell_type": "code",
      "source": [
        "text_transform = lambda x, voc, tokenizer: [voc['<BOS>']] + [voc[token] for token in tokenizer(x)] + [voc['<EOS>']]"
      ],
      "metadata": {
        "id": "5xjiwfyZwZbt"
      },
      "execution_count": null,
      "outputs": []
    },
    {
      "cell_type": "code",
      "source": [
        "# this is terrible as fuck because torchtext is terrible as fuck\n",
        "def load_conversations(path_to_movie_lines, path_to_movie_conversations):\n",
        "    id2line = {}\n",
        "    with open(path_to_movie_lines, errors='ignore') as file:\n",
        "        lines = file.readlines()\n",
        "        for line in lines:\n",
        "            parts = line.replace('\\n', '').split(' +++$+++ ')\n",
        "            id2line[parts[0]] = parts[4]\n",
        "\n",
        "    inputs, outputs = [], []\n",
        "    with open(path_to_movie_conversations, 'r') as file:\n",
        "        lines = file.readlines()\n",
        "        for line in lines:\n",
        "            parts = line.replace('\\n', '').split(' +++$+++ ')\n",
        "            conversation = [line[1:-1] for line in parts[3][1:-1].split(', ')]\n",
        "            for i in range(len(conversation) - 1):\n",
        "                inputs.append(preprocess_sentence(id2line[conversation[i]]))\n",
        "                outputs.append(preprocess_sentence(id2line[conversation[i + 1]]))\n",
        "                if len(inputs) >= MAX_SAMPLES:\n",
        "                    return inputs, outputs\n",
        "    return inputs, outputs\n"
      ],
      "metadata": {
        "id": "-sijVHLArNQJ"
      },
      "execution_count": null,
      "outputs": []
    },
    {
      "cell_type": "code",
      "source": [
        "def get_dataloader(path_to_movie_lines,\n",
        "                   path_to_movie_conversations):\n",
        "    questions, answers = load_conversations(path_to_movie_lines, path_to_movie_conversations)\n",
        "\n",
        "    tokenizer = get_tokenizer('basic_english')\n",
        "\n",
        "    counter = Counter()\n",
        "    for sent in questions + answers:\n",
        "        counter.update(tokenizer(sent))\n",
        "\n",
        "    voc = vocab(counter)\n",
        "    voc.insert_token(token=UNK_TOKEN, index=UNK_TOKEN_IND)\n",
        "    voc.set_default_index(index=UNK_TOKEN_IND)\n",
        "    voc.insert_token(token=PAD_TOKEN, index=PAD_TOKEN_IND)\n",
        "    voc.insert_token(token=BOS_TOKEN, index=BOS_TOKEN_IND)\n",
        "    voc.insert_token(token=EOS_TOKEN, index=EOS_TOKEN_IND)\n",
        "\n",
        "    q_tokenized = [text_transform(t, voc, tokenizer) for t in questions]\n",
        "    a_tokenized = [text_transform(t, voc, tokenizer) for t in answers]\n",
        "\n",
        "    import tensorflow as tf # todo\n",
        "    q_padded = tf.keras.preprocessing.sequence.pad_sequences(\n",
        "        q_tokenized, maxlen=MAX_LENGTH, padding='post', value=1.0)\n",
        "\n",
        "    a_padded = tf.keras.preprocessing.sequence.pad_sequences(\n",
        "        a_tokenized, maxlen=MAX_LENGTH, padding='post', value=1.0)\n",
        "\n",
        "    print(\"Vocab len\", len(voc))\n",
        "\n",
        "    dataloader = DataLoader(\n",
        "        list(\n",
        "            zip(\n",
        "                  q_padded.astype(np.float32),\n",
        "                  a_padded.astype(np.float32),\n",
        "                )\n",
        "            ),\n",
        "            batch_size=BATCH,\n",
        "            shuffle=False,\n",
        "    )\n",
        "\n",
        "    print(voc)\n",
        "    torch.save(voc, 'vocab')\n",
        "\n",
        "    return dataloader, text_transform, voc\n"
      ],
      "metadata": {
        "id": "dblp_TVLqvav"
      },
      "execution_count": null,
      "outputs": []
    },
    {
      "cell_type": "code",
      "source": [
        ""
      ],
      "metadata": {
        "id": "e3T8xN1yxmyc"
      },
      "execution_count": null,
      "outputs": []
    },
    {
      "cell_type": "code",
      "source": [
        "lines_path = 'data/movie_lines.txt'\n",
        "conversations_path = 'data/movie_conversations.txt'    \n",
        "\n",
        "dataloader, text_transform, voc = get_dataloader(lines_path,\n",
        "                                                 conversations_path)"
      ],
      "metadata": {
        "colab": {
          "base_uri": "https://localhost:8080/"
        },
        "id": "e42tdLcayovn",
        "outputId": "a82dbe87-22c4-4ca9-d3bc-7facec857ee6"
      },
      "execution_count": null,
      "outputs": [
        {
          "output_type": "stream",
          "name": "stdout",
          "text": [
            "Vocab len 23068\n",
            "Vocab()\n"
          ]
        }
      ]
    },
    {
      "cell_type": "code",
      "source": [
        "test_sample = None\n",
        "\n",
        "for i,x in enumerate(dataloader):\n",
        "  if i > 1: break\n",
        "  print(x[0].shape)\n",
        "  test_sample = x[0]"
      ],
      "metadata": {
        "colab": {
          "base_uri": "https://localhost:8080/"
        },
        "id": "WMyWFI7N3VVf",
        "outputId": "e20d9e21-c76f-4ac5-a3e6-536176667e4f"
      },
      "execution_count": null,
      "outputs": [
        {
          "output_type": "stream",
          "name": "stdout",
          "text": [
            "torch.Size([128, 40])\n",
            "torch.Size([128, 40])\n"
          ]
        }
      ]
    },
    {
      "cell_type": "code",
      "source": [
        ""
      ],
      "metadata": {
        "id": "OG_PUCipfDAT"
      },
      "execution_count": null,
      "outputs": []
    },
    {
      "cell_type": "code",
      "source": [
        "# https://arxiv.org/pdf/1706.03762.pdf\n",
        "def sdpa_attention(q, k, v):\n",
        "    d = torch.sqrt(torch.tensor(k.shape[len(k.shape) - 1]))\n",
        "    scales = torch.matmul(q, k) / d\n",
        "    # mask?\n",
        "    weights = f.softmax(scales, dim=-1)\n",
        "    res = torch.matmul(weights, v)\n",
        "    return res\n",
        "    "
      ],
      "metadata": {
        "id": "Iajk3iU8hKlB"
      },
      "execution_count": 2,
      "outputs": []
    },
    {
      "cell_type": "code",
      "source": [
        "class MultiheadAttention(nn.Module):\n",
        "  def __init__(self):\n",
        "    super(MultiheadAttention, self).__init__()\n",
        "\n",
        "    self.V = nn.Linear(1, 1)\n",
        "    self.K = nn.Linear(1, 1)\n",
        "    self.Q = nn.Linear(1, 1)\n",
        "    self.O = nn.Linear(1, 1)\n",
        "\n",
        "  def forward(self, q, k, v):\n",
        "    q = self.Q(q)\n",
        "    k = self.Q(k)\n",
        "    v = self.Q(v)\n",
        "\n",
        "    a = sdpa_attention(q, k, v)\n",
        "    o = self.O(a)\n",
        "\n",
        "    return o\n"
      ],
      "metadata": {
        "id": "Ic6e2QJcHlqj"
      },
      "execution_count": null,
      "outputs": []
    },
    {
      "cell_type": "code",
      "source": [
        ""
      ],
      "metadata": {
        "id": "YImpb8ymHlsy"
      },
      "execution_count": null,
      "outputs": []
    },
    {
      "cell_type": "code",
      "source": [
        ""
      ],
      "metadata": {
        "id": "xcvxNbhgfh3S"
      },
      "execution_count": null,
      "outputs": []
    },
    {
      "cell_type": "code",
      "source": [
        "print(test_sample.shape)\n",
        "print(test_sample.dtype)"
      ],
      "metadata": {
        "colab": {
          "base_uri": "https://localhost:8080/"
        },
        "id": "t_FMbHcG3-e-",
        "outputId": "9dfb5fe0-84f0-4d52-8950-6887429fd777"
      },
      "execution_count": null,
      "outputs": [
        {
          "output_type": "stream",
          "name": "stdout",
          "text": [
            "torch.Size([128, 40])\n",
            "torch.float32\n"
          ]
        }
      ]
    },
    {
      "cell_type": "code",
      "source": [
        ""
      ],
      "metadata": {
        "id": "QfkMe8hL0oi7"
      },
      "execution_count": null,
      "outputs": []
    },
    {
      "cell_type": "code",
      "source": [
        ""
      ],
      "metadata": {
        "id": "Jxr4MUuSKxHR"
      },
      "execution_count": null,
      "outputs": []
    },
    {
      "cell_type": "code",
      "source": [
        ""
      ],
      "metadata": {
        "id": "B_OfGA35gbyV"
      },
      "execution_count": null,
      "outputs": []
    },
    {
      "cell_type": "code",
      "source": [
        ""
      ],
      "metadata": {
        "id": "daNZmFaLuKfv"
      },
      "execution_count": null,
      "outputs": []
    },
    {
      "cell_type": "code",
      "source": [
        ""
      ],
      "metadata": {
        "id": "WZf8kFUluKhx"
      },
      "execution_count": null,
      "outputs": []
    },
    {
      "cell_type": "code",
      "source": [
        ""
      ],
      "metadata": {
        "id": "wi7GRvfpevfS"
      },
      "execution_count": null,
      "outputs": []
    },
    {
      "cell_type": "code",
      "source": [
        "# todo\n",
        "\n",
        "EPOCHS = 20\n",
        "\n",
        "losses = []"
      ],
      "metadata": {
        "id": "lKZsejM8kabv"
      },
      "execution_count": null,
      "outputs": []
    },
    {
      "cell_type": "code",
      "source": [
        "for epoch in trange(EPOCHS):\n",
        "  for i, data in tqdm(enumerate(dataloader)):\n",
        "    i_seq = data[0].to(DEVICE)\n",
        "\n"
      ],
      "metadata": {
        "id": "QtVP3qoOKxRU",
        "colab": {
          "base_uri": "https://localhost:8080/"
        },
        "outputId": "cc408bc1-839b-4c92-8ee1-59e2e6e11501"
      },
      "execution_count": null,
      "outputs": [
        {
          "output_type": "stream",
          "name": "stderr",
          "text": [
            "391it [00:02, 165.17it/s]\n",
            "391it [00:02, 167.36it/s]\n",
            "391it [00:02, 169.72it/s]\n",
            "391it [00:02, 166.97it/s]\n",
            "391it [00:02, 170.58it/s]\n",
            "391it [00:02, 149.98it/s]\n",
            "391it [00:02, 172.39it/s]\n",
            "391it [00:02, 169.37it/s]\n",
            "391it [00:02, 173.18it/s]\n",
            "391it [00:02, 150.08it/s]\n",
            "391it [00:02, 152.61it/s]\n",
            "391it [00:02, 171.22it/s]\n",
            "391it [00:02, 167.04it/s]\n",
            "391it [00:02, 171.93it/s]\n",
            "391it [00:02, 170.63it/s]\n",
            "391it [00:02, 169.05it/s]\n",
            "391it [00:02, 168.36it/s]\n",
            "391it [00:02, 172.01it/s]\n",
            "391it [00:02, 170.24it/s]\n",
            "391it [00:02, 171.01it/s]\n",
            "100%|██████████| 20/20 [00:47<00:00,  2.36s/it]\n"
          ]
        }
      ]
    },
    {
      "cell_type": "code",
      "source": [
        "plt.plot(range(len(losses)), losses, 'b', label='Loss')\n",
        "plt.title('Losses')\n",
        "plt.show()"
      ],
      "metadata": {
        "id": "y4GSVA0xKxVh",
        "colab": {
          "base_uri": "https://localhost:8080/",
          "height": 281
        },
        "outputId": "8aa288c3-fcfd-4b17-d7c6-0cc6480d6c6a"
      },
      "execution_count": null,
      "outputs": [
        {
          "output_type": "display_data",
          "data": {
            "text/plain": [
              "<Figure size 432x288 with 1 Axes>"
            ],
            "image/png": "[encoded data removed]"
          },
          "metadata": {
            "needs_background": "light"
          }
        }
      ]
    },
    {
      "cell_type": "code",
      "source": [
        "query = 'test'\n",
        "\n",
        "q_tr = text_transform(query, voc, get_tokenizer('basic_english'))\n",
        "import tensorflow as tf\n",
        "q_p = tf.keras.preprocessing.sequence.pad_sequences(\n",
        "    [q_tr],\n",
        "    maxlen=MAX_LENGTH,\n",
        "    padding='post',\n",
        "    value=1.0\n",
        ")\n",
        "q_t = torch.Tensor(q_p).float().to(DEVICE)\n",
        "\n",
        "\n",
        "enc = encoder(q_t)\n",
        "dec, _ = decoder(enc)\n",
        "\n",
        "print(dec.int())\n",
        "\n",
        "tokens = [t.int().item() for t in dec[0]]\n",
        "words = voc.get_itos()\n",
        "result = ' '.join(list(filter(lambda w: '<' not in w and '>' not in w, [words[t] for t in tokens])))\n",
        "print('\\n\\n')\n",
        "print(result)\n",
        "\n"
      ],
      "metadata": {
        "id": "s1cpwVbSKxZJ",
        "colab": {
          "base_uri": "https://localhost:8080/"
        },
        "outputId": "24650a99-ffaf-4c07-e77f-df7a1cc8e1b8"
      },
      "execution_count": null,
      "outputs": [
        {
          "output_type": "stream",
          "name": "stdout",
          "text": [
            "tensor([[ -869, -1392, -1191,     0, -1605,     0,     0, -1214, -1530, -1462,\n",
            "         -1104, -1115,     0, -1451, -1414,     0, -1253,  1159,     0, -1447,\n",
            "         -1145,   162, -1305,     0,  -805,     0, -1033,     0,     0, -1142,\n",
            "             0,     0, -1221,     0,     0, -1269,     0, -1423, -1202, -1298,\n",
            "         -1378, -1492,  -639,     0,     0,     0,  -508,  1187, -1514,     0,\n",
            "         -1470, -1266,     0,     0,     0, -1381,  1165,  -108,    29, -1472,\n",
            "             0, -1564,     0, -1408,     0,     0, -1357,  -820,  -659,     0,\n",
            "         -1261, -1532,  1041, -1188, -1505,     0,  1098, -1349, -1287, -1373,\n",
            "         -1207,  -505,     0, -1456, -1412,  1637,  -673, -1470,     0, -1579,\n",
            "         -1386, -1404,     0, -1531,     0, -1405,     0, -1066, -1484, -1412,\n",
            "         -1564,     0, -1484,   425, -1288,   719, -1137,  -841, -1418, -1240,\n",
            "         -1256,  -893,     0,     0, -1539,     0,    10,     0, -1081, -1063,\n",
            "         -1156, -1229, -1434,     0,     0,  -868, -1251,     0, -1495,     0,\n",
            "           864,     0,  -770,     0, -1403,     0, -1523, -1139, -1344, -1113,\n",
            "             0,     0, -1055, -1349, -1253,   925,   596,  -321,  -953, -1271,\n",
            "         -1368,     0, -1462,  1111, -1081,  -109, -1194, -1204,     0,  -970]],\n",
            "       device='cuda:0', dtype=torch.int32)\n",
            "\n",
            "\n",
            "\n",
            "propensity fluffy applicable elsie crucified vanguard inflict luceat bathrobe towing tampon testaments guards evacuated avignon unless burgler clerked bluffing teens aaaaaaaaaaaaaah forearm shrill crossbones imposters padded yayo varmint linkies certain classless armchair casing immaterial spires katherine , whichever turbo brunt mixture timeless interviewing blankenship pharmacist loss newscast barbarous stay clairvoyance bookkeeper gevs horseshoes geeeerta scotia contraption somebody bahamas armchair chompers dracula prowl steuben vanquish slogan tush contraption turbo tush other claques friday lupe penetrate hooray rods unenterprising hyutn areao roxanne arrasty editorials houdini cripples bobbing regarded scat castaways yearbook cracking anthills detains indivisible microchip nico mcclosky clairvoyance testaments rictor results enchantment advising micropollutants sappy inflict appointment arrasty holoshpere unimportant sweatsuit embedding\n"
          ]
        }
      ]
    },
    {
      "cell_type": "code",
      "source": [
        ""
      ],
      "metadata": {
        "id": "Up2jkK36zGAD"
      },
      "execution_count": null,
      "outputs": []
    },
    {
      "cell_type": "code",
      "source": [
        ""
      ],
      "metadata": {
        "id": "xrr5i0IpzGCn"
      },
      "execution_count": null,
      "outputs": []
    },
    {
      "cell_type": "code",
      "source": [
        ""
      ],
      "metadata": {
        "id": "LGWG3mbzzGEx"
      },
      "execution_count": null,
      "outputs": []
    },
    {
      "cell_type": "code",
      "source": [
        ""
      ],
      "metadata": {
        "id": "Mum903TXzGHY"
      },
      "execution_count": null,
      "outputs": []
    },
    {
      "cell_type": "code",
      "source": [
        ""
      ],
      "metadata": {
        "id": "LfUhnHL_Kxcj"
      },
      "execution_count": null,
      "outputs": []
    },
    {
      "cell_type": "code",
      "source": [
        ""
      ],
      "metadata": {
        "id": "ddwvBDsnKxf0"
      },
      "execution_count": null,
      "outputs": []
    },
    {
      "cell_type": "code",
      "source": [
        "!tail -n 10 data/movie_conversations.txt "
      ],
      "metadata": {
        "id": "4kVqD08vKxjr",
        "colab": {
          "base_uri": "https://localhost:8080/"
        },
        "outputId": "1bcb962c-94dd-46a0-c9ac-7148d11c4f69"
      },
      "execution_count": null,
      "outputs": [
        {
          "output_type": "stream",
          "name": "stdout",
          "text": [
            "u9027 +++$+++ u9029 +++$+++ m616 +++$+++ ['L666460', 'L666461']\n",
            "u9027 +++$+++ u9029 +++$+++ m616 +++$+++ ['L666485', 'L666486']\n",
            "u9027 +++$+++ u9029 +++$+++ m616 +++$+++ ['L666546', 'L666547']\n",
            "u9028 +++$+++ u9033 +++$+++ m616 +++$+++ ['L666497', 'L666498', 'L666499', 'L666500', 'L666501', 'L666502']\n",
            "u9028 +++$+++ u9031 +++$+++ m616 +++$+++ ['L666262', 'L666263', 'L666264']\n",
            "u9028 +++$+++ u9031 +++$+++ m616 +++$+++ ['L666324', 'L666325', 'L666326', 'L666327']\n",
            "u9028 +++$+++ u9031 +++$+++ m616 +++$+++ ['L666575', 'L666576']\n",
            "u9030 +++$+++ u9034 +++$+++ m616 +++$+++ ['L666256', 'L666257']\n",
            "u9030 +++$+++ u9034 +++$+++ m616 +++$+++ ['L666369', 'L666370', 'L666371', 'L666372']\n",
            "u9030 +++$+++ u9034 +++$+++ m616 +++$+++ ['L666520', 'L666521', 'L666522']\n"
          ]
        }
      ]
    },
    {
      "cell_type": "code",
      "source": [
        "!ls data"
      ],
      "metadata": {
        "id": "zKWhBqLmKxoL",
        "colab": {
          "base_uri": "https://localhost:8080/"
        },
        "outputId": "7df4b329-b51c-42ca-bcd8-5a4be37a8e30"
      },
      "execution_count": null,
      "outputs": [
        {
          "output_type": "stream",
          "name": "stdout",
          "text": [
            " chameleons.pdf\t\t\t movie_lines.txt\n",
            "'cornell movie-dialogs corpus'\t movie_titles_metadata.txt\n",
            " movie_characters_metadata.txt\t raw_script_urls.txt\n",
            " movie_conversations.txt\t README.txt\n"
          ]
        }
      ]
    },
    {
      "cell_type": "code",
      "source": [
        "!cat data/README.txt"
      ],
      "metadata": {
        "id": "mm4in0NdubQS",
        "colab": {
          "base_uri": "https://localhost:8080/"
        },
        "outputId": "102f1a1a-dae8-416f-ef01-a59a0e3115b8"
      },
      "execution_count": null,
      "outputs": [
        {
          "output_type": "stream",
          "name": "stdout",
          "text": [
            "Cornell Movie-Dialogs Corpus\n",
            "\n",
            "Distributed together with:\n",
            "\n",
            "\"Chameleons in imagined conversations: A new approach to understanding coordination of linguistic style in dialogs\"\n",
            "Cristian Danescu-Niculescu-Mizil and Lillian Lee\n",
            "Proceedings of the Workshop on Cognitive Modeling and Computational Linguistics, ACL 2011.\r\n",
            "\n",
            "(this paper is included in this zip file)\n",
            "\n",
            "NOTE: If you have results to report on these corpora, please send email to cristian@cs.cornell.edu or llee@cs.cornell.edu so we can add you to our list of people using this data.  Thanks!\n",
            "\n",
            "\n",
            "Contents of this README:\n",
            "\n",
            "\tA) Brief description\n",
            "\tB) Files description\n",
            "\tC) Details on the collection procedure\n",
            "\tD) Contact\n",
            "\n",
            "\n",
            "A) Brief description:\n",
            "\n",
            "This corpus contains a metadata-rich collection of fictional conversations extracted from raw movie scripts:\n",
            "\n",
            "- 220,579 conversational exchanges between 10,292 pairs of movie characters\n",
            "- involves 9,035 characters from 617 movies\n",
            "- in total 304,713 utterances\n",
            "- movie metadata included:\n",
            "\t- genres\n",
            "\t- release year\n",
            "\t- IMDB rating\n",
            "\t- number of IMDB votes\n",
            "\t- IMDB rating\n",
            "- character metadata included:\n",
            "\t- gender (for 3,774 characters)\n",
            "\t- position on movie credits (3,321 characters)\n",
            "\n",
            "\n",
            "B) Files description:\n",
            "\n",
            "In all files the field separator is \" +++$+++ \"\n",
            "\n",
            "- movie_titles_metadata.txt\n",
            "\t- contains information about each movie title\n",
            "\t- fields: \n",
            "\t\t- movieID, \n",
            "\t\t- movie title,\n",
            "\t\t- movie year, \n",
            "\t   \t- IMDB rating,\n",
            "\t\t- no. IMDB votes,\n",
            " \t\t- genres in the format ['genre1','genre2',�,'genreN']\n",
            "\n",
            "- movie_characters_metadata.txt\n",
            "\t- contains information about each movie character\n",
            "\t- fields:\n",
            "\t\t- characterID\n",
            "\t\t- character name\n",
            "\t\t- movieID\n",
            "\t\t- movie title\n",
            "\t\t- gender (\"?\" for unlabeled cases)\n",
            "\t\t- position in credits (\"?\" for unlabeled cases) \n",
            "\n",
            "- movie_lines.txt\n",
            "\t- contains the actual text of each utterance\n",
            "\t- fields:\n",
            "\t\t- lineID\n",
            "\t\t- characterID (who uttered this phrase)\n",
            "\t\t- movieID\n",
            "\t\t- character name\n",
            "\t\t- text of the utterance\n",
            "\n",
            "- movie_conversations.txt\n",
            "\t- the structure of the conversations\n",
            "\t- fields\n",
            "\t\t- characterID of the first character involved in the conversation\n",
            "\t\t- characterID of the second character involved in the conversation\n",
            "\t\t- movieID of the movie in which the conversation occurred\n",
            "\t\t- list of the utterances that make the conversation, in chronological \n",
            "\t\t\torder: ['lineID1','lineID2',�,'lineIDN']\n",
            "\t\t\thas to be matched with movie_lines.txt to reconstruct the actual content\n",
            "\n",
            "- raw_script_urls.txt\n",
            "\t- the urls from which the raw sources were retrieved\n",
            "\n",
            "C) Details on the collection procedure:\n",
            "\n",
            "We started from raw publicly available movie scripts (sources acknowledged in \n",
            "raw_script_urls.txt).  In order to collect the metadata necessary for this study \n",
            "and to distinguish between two script versions of the same movie, we automatically\n",
            " matched each script with an entry in movie database provided by IMDB (The Internet\n",
            " Movie Database; data interfaces available at http://www.imdb.com/interfaces). Some\n",
            " amount of manual correction was also involved. When  more than one movie with the same\n",
            " title was found in IMBD, the match was made with the most popular title \n",
            "(the one that received most IMDB votes)  \n",
            "\n",
            "After discarding all movies that could not be matched or that had less than 5 IMDB \n",
            "votes, we were left with 617 unique titles with metadata including genre, release \n",
            "year, IMDB rating and no. of IMDB votes and cast distribution.  We then identified \n",
            "the pairs of characters that interact and separated their conversations automatically \n",
            "using simple data processing heuristics. After discarding all pairs that exchanged \n",
            "less than 5 conversational exchanges there were 10,292 left, exchanging 220,579 \n",
            "conversational exchanges (304,713 utterances).  After automatically matching the names \n",
            "of the 9,035 involved characters to the list of cast distribution, we used the \n",
            "gender of each interpreting actor to infer the fictional gender of a subset of \n",
            "3,321 movie characters (we raised the number of gendered 3,774 characters through\n",
            " manual annotation). Similarly, we collected the end credit position of a subset \n",
            "of 3,321 characters as a proxy for their status.\n",
            "\n",
            "\n",
            "D) Contact:\n",
            "\n",
            "Please email any questions to: cristian@cs.cornell.edu (Cristian Danescu-Niculescu-Mizil)"
          ]
        }
      ]
    },
    {
      "cell_type": "code",
      "source": [
        "# # trash\n",
        "\n",
        "\n",
        "\n",
        "\n",
        "# def preprocess(x):\n",
        "#   x_no_new = x.replace('\\n', '')\n",
        "#   text = x_no_new.split(FIELD_SPLITTER).pop()\n",
        "#   embedding = g_vectors.get_vecs_by_tokens(tokenizer(text), lower_case_backup=True)\n",
        "#   return embedding\n",
        "\n",
        "# tokenizer = get_tokenizer('basic_english')\n",
        "# g_vectors = GloVe(name='840B')\n",
        "# g_vocab = vocab(g_vectors.stoi)\n",
        "\n",
        "\n",
        "# train_iter = tt.data.BucketIterator(\n",
        "#   dataset=train_obj,\n",
        "#   batch_size = 2,\n",
        "#   sort_key=lambda x: len(x.review),\n",
        "#   shuffle=True,\n",
        "#   device=DEVICE\n",
        "# )\n",
        "\n",
        "# trainloader = torch.utils.data.DataLoader(\n",
        "# \t,\n",
        "# \tbatch_size=BATCH,\n",
        "# \tnum_workers=12,\n",
        "# \tshuffle=True\n",
        "# )"
      ],
      "metadata": {
        "id": "UBDoHXDJsqu4"
      },
      "execution_count": null,
      "outputs": []
    },
    {
      "cell_type": "code",
      "source": [
        "\n",
        "# embeddings = global_vectors.get_vecs_by_tokens(tokenizer(\"Hello, How are you?\"),\n",
        "#                                                lower_case_backup=True)\n",
        "# embeddings\n",
        "# \n",
        "# \n",
        "# \n",
        "# def batch(iterable, size):\n",
        "#     from itertools import chain, islice\n",
        "#     iterator = iter(iterable)\n",
        "#     for first in iterator:\n",
        "#         yield list(chain([first], islice(iterator, size - 1)))"
      ],
      "metadata": {
        "id": "DRxfxpjQsrTJ"
      },
      "execution_count": null,
      "outputs": []
    }
  ]
}